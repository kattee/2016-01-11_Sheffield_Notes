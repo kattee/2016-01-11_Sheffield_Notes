{
 "cells": [
  {
   "cell_type": "markdown",
   "metadata": {},
   "source": [
    "# Reading data into Astropy Tables\n",
    "\n",
    "## Objectives\n",
    "\n",
    " - Read ASCII files with a defined format\n",
    " - Learn basic operations with `astropy.tables`\n",
    " - Ingest header information\n",
    " - VOTables"
   ]
  },
  {
   "cell_type": "markdown",
   "metadata": {},
   "source": [
    "## Reading data\n",
    "\n",
    "Our first task with python was to read a `csv` file using `np.loadtxt()`.\n",
    "That function has few properties to define the dlimiter of the columns, skip rows, read commented lines, convert values while reading, etc.\n",
    "\n",
    "However, the result is an array, without the information of the metadata that file may have included (name, units, ...).\n",
    "\n",
    "Astropy offers a ascii reader that improves many of these steps while provides templates to read common ascii files in astronomy.\n"
   ]
  },
  {
   "cell_type": "code",
   "execution_count": 1,
   "metadata": {
    "collapsed": true,
    "keep": true
   },
   "outputs": [],
   "source": [
    "from astropy.io import ascii"
   ]
  },
  {
   "cell_type": "code",
   "execution_count": 2,
   "metadata": {
    "collapsed": false
   },
   "outputs": [
    {
     "data": {
      "text/html": [
       "&lt;Table length=2&gt;\n",
       "<table id=\"table140239252965648\">\n",
       "<thead><tr><th>obsid</th><th>redshift</th><th>X</th><th>Y</th><th>object</th></tr></thead>\n",
       "<thead><tr><th>int64</th><th>float64</th><th>int64</th><th>int64</th><th>str11</th></tr></thead>\n",
       "<tr><td>3102</td><td>0.32</td><td>4167</td><td>4085</td><td>Q1250+568-A</td></tr>\n",
       "<tr><td>877</td><td>0.22</td><td>4378</td><td>3892</td><td>Source 82</td></tr>\n",
       "</table>"
      ],
      "text/plain": [
       "<Table length=2>\n",
       "obsid redshift   X     Y      object  \n",
       "int64 float64  int64 int64    str11   \n",
       "----- -------- ----- ----- -----------\n",
       " 3102     0.32  4167  4085 Q1250+568-A\n",
       "  877     0.22  4378  3892   Source 82"
      ]
     },
     "execution_count": 2,
     "metadata": {},
     "output_type": "execute_result"
    }
   ],
   "source": [
    "# Read a sample file: sources.dat\n",
    "data = ascii.read(\"sources.dat\")\n",
    "data"
   ]
  },
  {
   "cell_type": "markdown",
   "metadata": {},
   "source": [
    "Automatically, read has identified the header and the format of each column. The result is a `Table` object, and that brings some additional properties."
   ]
  },
  {
   "cell_type": "code",
   "execution_count": 3,
   "metadata": {
    "collapsed": false
   },
   "outputs": [
    {
     "name": "stderr",
     "output_type": "stream",
     "text": [
      "/home/dvd/.conda/envs/swc/lib/python2.7/site-packages/astropy/table/column.py:268: FutureWarning: elementwise comparison failed; returning scalar instead, but in the future will perform elementwise comparison\n",
      "  return self.data.__eq__(other)\n"
     ]
    },
    {
     "data": {
      "text/plain": [
       "<Table length=2>\n",
       "  name    dtype \n",
       "-------- -------\n",
       "   obsid   int64\n",
       "redshift float64\n",
       "       X   int64\n",
       "       Y   int64\n",
       "  object   str11"
      ]
     },
     "execution_count": 3,
     "metadata": {},
     "output_type": "execute_result"
    }
   ],
   "source": [
    "# Show the info of the data read\n",
    "data.info"
   ]
  },
  {
   "cell_type": "code",
   "execution_count": 4,
   "metadata": {
    "collapsed": false
   },
   "outputs": [
    {
     "data": {
      "text/plain": [
       "['obsid', 'redshift', 'X', 'Y', 'object']"
      ]
     },
     "execution_count": 4,
     "metadata": {},
     "output_type": "execute_result"
    }
   ],
   "source": [
    "# Get the name of the columns\n",
    "data.colnames"
   ]
  },
  {
   "cell_type": "code",
   "execution_count": 5,
   "metadata": {
    "collapsed": false
   },
   "outputs": [
    {
     "data": {
      "text/html": [
       "&lt;Column name=&apos;obsid&apos; dtype=&apos;int64&apos; length=2&gt;\n",
       "<table>\n",
       "<tr><td>3102</td></tr>\n",
       "<tr><td>877</td></tr>\n",
       "</table>"
      ],
      "text/plain": [
       "<Column name='obsid' dtype='int64' length=2>\n",
       "3102\n",
       " 877"
      ]
     },
     "execution_count": 5,
     "metadata": {},
     "output_type": "execute_result"
    }
   ],
   "source": [
    "# Get just the values of a particular column\n",
    "data['obsid']"
   ]
  },
  {
   "cell_type": "code",
   "execution_count": 6,
   "metadata": {
    "collapsed": false
   },
   "outputs": [
    {
     "data": {
      "text/html": [
       "&lt;Row index=0&gt;\n",
       "<table id=\"table140239248109456\">\n",
       "<thead><tr><th>obsid</th><th>redshift</th></tr></thead>\n",
       "<thead><tr><th>int64</th><th>float64</th></tr></thead>\n",
       "<tr><td>3102</td><td>0.32</td></tr>\n",
       "</table>"
      ],
      "text/plain": [
       "<Row index=0>\n",
       "obsid redshift\n",
       "int64 float64 \n",
       "----- --------\n",
       " 3102     0.32"
      ]
     },
     "execution_count": 6,
     "metadata": {},
     "output_type": "execute_result"
    }
   ],
   "source": [
    "# get the first element\n",
    "data['obsid', 'redshift'][0]"
   ]
  },
  {
   "cell_type": "markdown",
   "metadata": {},
   "source": [
    "Astropy [can read a variety of formats](http://astropy.readthedocs.org/en/stable/io/ascii/index.html#supported-formats) easily.\n",
    "The following example uses a quite "
   ]
  },
  {
   "cell_type": "code",
   "execution_count": 7,
   "metadata": {
    "collapsed": false,
    "keep": true
   },
   "outputs": [
    {
     "name": "stdout",
     "output_type": "stream",
     "text": [
      "Downloading ftp://cdsarc.u-strasbg.fr/pub/cats/VII/253/snrs.dat [Done]\n",
      "Downloading ftp://cdsarc.u-strasbg.fr/pub/cats/VII/253/ReadMe [Done]\n"
     ]
    }
   ],
   "source": [
    "# Read the data from the source\n",
    "table = ascii.read(\"ftp://cdsarc.u-strasbg.fr/pub/cats/VII/253/snrs.dat\",\n",
    "                   readme=\"ftp://cdsarc.u-strasbg.fr/pub/cats/VII/253/ReadMe\")"
   ]
  },
  {
   "cell_type": "code",
   "execution_count": 8,
   "metadata": {
    "collapsed": false
   },
   "outputs": [
    {
     "name": "stdout",
     "output_type": "stream",
     "text": [
      "<Table masked=True length=274>\n",
      "   name         mean           std       min  max   n_bad\n",
      "---------- -------------- -------------- --- ------ -----\n",
      "       SNR             --             --  --     --     0\n",
      "       RAh  16.0547445255  4.15229196762   0     23     0\n",
      "       RAm  28.8576642336  16.9123382708   0     59     0\n",
      "       RAs   28.102189781  18.5923556505   0     59     0\n",
      "       DE-             --             --  --     --     0\n",
      "       DEd   33.602189781  19.4333634671   0     72     0\n",
      "       DEm  29.6459854015  17.7768672558   0     59     0\n",
      "   MajDiam  30.9124087591  42.1254815567 1.5  310.0     0\n",
      "       ---             --             --  --     --   164\n",
      "   MinDiam  23.4909090909  33.3816758266 2.0  240.0   164\n",
      " u_MinDiam             --             --  --     --   243\n",
      "      type             --             --  --     --     0\n",
      " l_S(1GHz)             --             --  --     --   270\n",
      "   S(1GHz)  42.6488549618  212.136906631 0.3 2720.0    12\n",
      " u_S(1GHz)             --             --  --     --   157\n",
      "  Sp-Index 0.486981132075 0.158350398486 0.0    1.0    62\n",
      "u_Sp-Index             --             --  --     --   154\n",
      "     Names             --             --  --     --   194\n"
     ]
    },
    {
     "name": "stderr",
     "output_type": "stream",
     "text": [
      "/home/dvd/.conda/envs/swc/lib/python2.7/site-packages/astropy/table/info.py:94: UnicodeWarning: Unicode equal comparison failed to convert both arguments to Unicode - interpreting them as being unequal\n",
      "  if np.all(info[name] == ''):\n"
     ]
    }
   ],
   "source": [
    "# See the stats of the table\n",
    "table.info('stats')"
   ]
  },
  {
   "cell_type": "code",
   "execution_count": 9,
   "metadata": {
    "collapsed": false
   },
   "outputs": [
    {
     "data": {
      "text/html": [
       "&lt;Table masked=True length=10&gt;\n",
       "<table id=\"table140239238744080\">\n",
       "<thead><tr><th>SNR</th><th>RAh</th><th>RAm</th><th>RAs</th><th>DE-</th><th>DEd</th><th>DEm</th><th>MajDiam</th><th>---</th><th>MinDiam</th><th>u_MinDiam</th><th>type</th><th>l_S(1GHz)</th><th>S(1GHz)</th><th>u_S(1GHz)</th><th>Sp-Index</th><th>u_Sp-Index</th><th>Names</th></tr></thead>\n",
       "<thead><tr><th></th><th>h</th><th>min</th><th>s</th><th></th><th>deg</th><th>arcmin</th><th>arcmin</th><th></th><th>arcmin</th><th></th><th></th><th></th><th>Jy</th><th></th><th></th><th></th><th></th></tr></thead>\n",
       "<thead><tr><th>str11</th><th>int64</th><th>int64</th><th>int64</th><th>str1</th><th>int64</th><th>int64</th><th>float64</th><th>str1</th><th>float64</th><th>str1</th><th>str2</th><th>str1</th><th>float64</th><th>str1</th><th>float64</th><th>str1</th><th>str26</th></tr></thead>\n",
       "<tr><td>G000.0+00.0</td><td>17</td><td>45</td><td>44</td><td>-</td><td>29</td><td>0</td><td>3.5</td><td>x</td><td>2.5</td><td>--</td><td>S</td><td>--</td><td>100.0</td><td>?</td><td>0.8</td><td>?</td><td>Sgr A East</td></tr>\n",
       "<tr><td>G000.3+00.0</td><td>17</td><td>46</td><td>15</td><td>-</td><td>28</td><td>38</td><td>15.0</td><td>x</td><td>8.0</td><td>--</td><td>S</td><td>--</td><td>22.0</td><td>--</td><td>0.6</td><td>--</td><td>--</td></tr>\n",
       "<tr><td>G000.9+00.1</td><td>17</td><td>47</td><td>21</td><td>-</td><td>28</td><td>9</td><td>8.0</td><td>--</td><td>--</td><td>--</td><td>C</td><td>--</td><td>18.0</td><td>?</td><td>--</td><td>v</td><td>--</td></tr>\n",
       "<tr><td>G001.0-00.1</td><td>17</td><td>48</td><td>30</td><td>-</td><td>28</td><td>9</td><td>8.0</td><td>--</td><td>--</td><td>--</td><td>S</td><td>--</td><td>15.0</td><td>--</td><td>0.6</td><td>?</td><td>--</td></tr>\n",
       "<tr><td>G001.4-00.1</td><td>17</td><td>49</td><td>39</td><td>-</td><td>27</td><td>46</td><td>10.0</td><td>--</td><td>--</td><td>--</td><td>S</td><td>--</td><td>2.0</td><td>?</td><td>--</td><td>?</td><td>--</td></tr>\n",
       "<tr><td>G001.9+00.3</td><td>17</td><td>48</td><td>45</td><td>-</td><td>27</td><td>10</td><td>1.5</td><td>--</td><td>--</td><td>--</td><td>S</td><td>--</td><td>0.6</td><td>--</td><td>0.6</td><td>--</td><td>--</td></tr>\n",
       "<tr><td>G003.7-00.2</td><td>17</td><td>55</td><td>26</td><td>-</td><td>25</td><td>50</td><td>14.0</td><td>x</td><td>11.0</td><td>--</td><td>S</td><td>--</td><td>2.3</td><td>--</td><td>0.65</td><td>--</td><td>--</td></tr>\n",
       "<tr><td>G003.8+00.3</td><td>17</td><td>52</td><td>55</td><td>-</td><td>25</td><td>28</td><td>18.0</td><td>--</td><td>--</td><td>--</td><td>S?</td><td>--</td><td>3.0</td><td>?</td><td>0.6</td><td>--</td><td>--</td></tr>\n",
       "<tr><td>G004.2-03.5</td><td>18</td><td>8</td><td>55</td><td>-</td><td>27</td><td>3</td><td>28.0</td><td>--</td><td>--</td><td>--</td><td>S</td><td>--</td><td>3.2</td><td>?</td><td>0.6</td><td>?</td><td>--</td></tr>\n",
       "<tr><td>G004.5+06.8</td><td>17</td><td>30</td><td>42</td><td>-</td><td>21</td><td>29</td><td>3.0</td><td>--</td><td>--</td><td>--</td><td>S</td><td>--</td><td>19.0</td><td>--</td><td>0.64</td><td>--</td><td>Kepler, SN1604, 3C358</td></tr>\n",
       "</table>"
      ],
      "text/plain": [
       "<Table masked=True length=10>\n",
       "    SNR      RAh   RAm   RAs  ... Sp-Index u_Sp-Index         Names        \n",
       "              h    min    s   ...                                          \n",
       "   str11    int64 int64 int64 ... float64     str1            str26        \n",
       "----------- ----- ----- ----- ... -------- ---------- ---------------------\n",
       "G000.0+00.0    17    45    44 ...      0.8          ?            Sgr A East\n",
       "G000.3+00.0    17    46    15 ...      0.6         --                    --\n",
       "G000.9+00.1    17    47    21 ...       --          v                    --\n",
       "G001.0-00.1    17    48    30 ...      0.6          ?                    --\n",
       "G001.4-00.1    17    49    39 ...       --          ?                    --\n",
       "G001.9+00.3    17    48    45 ...      0.6         --                    --\n",
       "G003.7-00.2    17    55    26 ...     0.65         --                    --\n",
       "G003.8+00.3    17    52    55 ...      0.6         --                    --\n",
       "G004.2-03.5    18     8    55 ...      0.6          ?                    --\n",
       "G004.5+06.8    17    30    42 ...     0.64         -- Kepler, SN1604, 3C358"
      ]
     },
     "execution_count": 9,
     "metadata": {},
     "output_type": "execute_result"
    }
   ],
   "source": [
    "# If we want to see the first 10 entries\n",
    "table[0:10]"
   ]
  },
  {
   "cell_type": "code",
   "execution_count": 10,
   "metadata": {
    "collapsed": false
   },
   "outputs": [
    {
     "data": {
      "text/latex": [
       "$[0.0010181087,~0.0043633231,~0.0023271057] \\; \\mathrm{rad}$"
      ],
      "text/plain": [
       "<Quantity [ 0.00101811, 0.00436332, 0.00232711] rad>"
      ]
     },
     "execution_count": 10,
     "metadata": {},
     "output_type": "execute_result"
    }
   ],
   "source": [
    "# the units are also stored, we can extract them too\n",
    "table['MajDiam'].quantity.to('rad')[0:3]"
   ]
  },
  {
   "cell_type": "code",
   "execution_count": 11,
   "metadata": {
    "collapsed": false
   },
   "outputs": [
    {
     "data": {
      "text/html": [
       "&lt;MaskedColumn name=&apos;RAh&apos; dtype=&apos;int64&apos; unit=&apos;h&apos; description=&apos;*Right Ascension J2000 hours&apos; length=3&gt;\n",
       "<table>\n",
       "<tr><td>106</td></tr>\n",
       "<tr><td>78</td></tr>\n",
       "<tr><td>85</td></tr>\n",
       "</table>"
      ],
      "text/plain": [
       "<MaskedColumn name='RAh' dtype='int64' unit='h' description='*Right Ascension J2000 hours' length=3>\n",
       "106\n",
       " 78\n",
       " 85"
      ]
     },
     "execution_count": 11,
     "metadata": {},
     "output_type": "execute_result"
    }
   ],
   "source": [
    "# Adding values of different columns\n",
    "(table['RAh'] + table['RAm'] + table['RAs'])[0:3]\n"
   ]
  },
  {
   "cell_type": "code",
   "execution_count": 12,
   "metadata": {
    "collapsed": false
   },
   "outputs": [
    {
     "data": {
      "text/latex": [
       "$[17.762222,~17.770833,~17.789167] \\; \\mathrm{h}$"
      ],
      "text/plain": [
       "<Quantity [ 17.76222222, 17.77083333, 17.78916667] h>"
      ]
     },
     "execution_count": 12,
     "metadata": {},
     "output_type": "execute_result"
    }
   ],
   "source": [
    "# adding values of different columns but being aware of column units\n",
    "(table['RAh'].quantity + table['RAm'].quantity + table['RAs'].quantity)[0:3]"
   ]
  },
  {
   "cell_type": "code",
   "execution_count": 13,
   "metadata": {
    "collapsed": true
   },
   "outputs": [],
   "source": [
    "# Create a new column in the table\n",
    "table['RA'] = table['RAh'].quantity + table['RAm'].quantity + table['RAs'].quantity"
   ]
  },
  {
   "cell_type": "code",
   "execution_count": 14,
   "metadata": {
    "collapsed": false
   },
   "outputs": [
    {
     "data": {
      "text/html": [
       "&lt;MaskedColumn name=&apos;RA&apos; dtype=&apos;float64&apos; unit=&apos;h&apos; length=3&gt;\n",
       "<table>\n",
       "<tr><td>17.7622222222</td></tr>\n",
       "<tr><td>17.7708333333</td></tr>\n",
       "<tr><td>17.7891666667</td></tr>\n",
       "</table>"
      ],
      "text/plain": [
       "<MaskedColumn name='RA' dtype='float64' unit='h' length=3>\n",
       "17.7622222222\n",
       "17.7708333333\n",
       "17.7891666667"
      ]
     },
     "execution_count": 14,
     "metadata": {},
     "output_type": "execute_result"
    }
   ],
   "source": [
    "# Show table's new column \n",
    "table['RA'][0:3]"
   ]
  },
  {
   "cell_type": "code",
   "execution_count": 15,
   "metadata": {
    "collapsed": true
   },
   "outputs": [],
   "source": [
    "# add a description to the new column\n",
    "table['RA'].description = table['RAh'].description"
   ]
  },
  {
   "cell_type": "code",
   "execution_count": 16,
   "metadata": {
    "collapsed": false
   },
   "outputs": [
    {
     "data": {
      "text/html": [
       "&lt;MaskedColumn name=&apos;RA&apos; dtype=&apos;float64&apos; unit=&apos;h&apos; description=&apos;*Right Ascension J2000 hours&apos; length=3&gt;\n",
       "<table>\n",
       "<tr><td>17.7622222222</td></tr>\n",
       "<tr><td>17.7708333333</td></tr>\n",
       "<tr><td>17.7891666667</td></tr>\n",
       "</table>"
      ],
      "text/plain": [
       "<MaskedColumn name='RA' dtype='float64' unit='h' description='*Right Ascension J2000 hours' length=3>\n",
       "17.7622222222\n",
       "17.7708333333\n",
       "17.7891666667"
      ]
     },
     "execution_count": 16,
     "metadata": {},
     "output_type": "execute_result"
    }
   ],
   "source": [
    "# Now it does show the values\n",
    "table['RA'][0:3]\n"
   ]
  },
  {
   "cell_type": "code",
   "execution_count": 17,
   "metadata": {
    "collapsed": false
   },
   "outputs": [
    {
     "ename": "TypeError",
     "evalue": "Can only apply 'sin' function to quantities with angle units",
     "output_type": "error",
     "traceback": [
      "\u001b[1;31m---------------------------------------------------------------------------\u001b[0m",
      "\u001b[1;31mTypeError\u001b[0m                                 Traceback (most recent call last)",
      "\u001b[1;32m<ipython-input-17-56bceb528a84>\u001b[0m in \u001b[0;36m<module>\u001b[1;34m()\u001b[0m\n\u001b[0;32m      1\u001b[0m \u001b[1;32mimport\u001b[0m \u001b[0mnumpy\u001b[0m \u001b[1;32mas\u001b[0m \u001b[0mnp\u001b[0m\u001b[1;33m\u001b[0m\u001b[0m\n\u001b[1;32m----> 2\u001b[1;33m \u001b[0mnp\u001b[0m\u001b[1;33m.\u001b[0m\u001b[0msin\u001b[0m\u001b[1;33m(\u001b[0m\u001b[0mtable\u001b[0m\u001b[1;33m[\u001b[0m\u001b[1;34m'RA'\u001b[0m\u001b[1;33m]\u001b[0m\u001b[1;33m.\u001b[0m\u001b[0mquantity\u001b[0m\u001b[1;33m)\u001b[0m\u001b[1;33m\u001b[0m\u001b[0m\n\u001b[0m",
      "\u001b[1;32m/home/dvd/.conda/envs/swc/lib/python2.7/site-packages/astropy/units/quantity.pyc\u001b[0m in \u001b[0;36m__array_prepare__\u001b[1;34m(self, obj, context)\u001b[0m\n\u001b[0;32m    321\u001b[0m         \u001b[1;31m# the unit the output from the ufunc will have.\u001b[0m\u001b[1;33m\u001b[0m\u001b[1;33m\u001b[0m\u001b[0m\n\u001b[0;32m    322\u001b[0m         \u001b[1;32mif\u001b[0m \u001b[0mfunction\u001b[0m \u001b[1;32min\u001b[0m \u001b[0mUFUNC_HELPERS\u001b[0m\u001b[1;33m:\u001b[0m\u001b[1;33m\u001b[0m\u001b[0m\n\u001b[1;32m--> 323\u001b[1;33m             \u001b[0mconverters\u001b[0m\u001b[1;33m,\u001b[0m \u001b[0mresult_unit\u001b[0m \u001b[1;33m=\u001b[0m \u001b[0mUFUNC_HELPERS\u001b[0m\u001b[1;33m[\u001b[0m\u001b[0mfunction\u001b[0m\u001b[1;33m]\u001b[0m\u001b[1;33m(\u001b[0m\u001b[0mfunction\u001b[0m\u001b[1;33m,\u001b[0m \u001b[1;33m*\u001b[0m\u001b[0munits\u001b[0m\u001b[1;33m)\u001b[0m\u001b[1;33m\u001b[0m\u001b[0m\n\u001b[0m\u001b[0;32m    324\u001b[0m         \u001b[1;32melse\u001b[0m\u001b[1;33m:\u001b[0m\u001b[1;33m\u001b[0m\u001b[0m\n\u001b[0;32m    325\u001b[0m             raise TypeError(\"Unknown ufunc {0}.  Please raise issue on \"\n",
      "\u001b[1;32m/home/dvd/.conda/envs/swc/lib/python2.7/site-packages/astropy/units/quantity_helper.pyc\u001b[0m in \u001b[0;36mhelper_radian_to_dimensionless\u001b[1;34m(f, unit)\u001b[0m\n\u001b[0;32m    174\u001b[0m         raise TypeError(\"Can only apply '{0}' function to \"\n\u001b[0;32m    175\u001b[0m                         \u001b[1;34m\"quantities with angle units\"\u001b[0m\u001b[1;33m\u001b[0m\u001b[0m\n\u001b[1;32m--> 176\u001b[1;33m                         .format(f.__name__))\n\u001b[0m\u001b[0;32m    177\u001b[0m \u001b[1;33m\u001b[0m\u001b[0m\n\u001b[0;32m    178\u001b[0m \u001b[0mUFUNC_HELPERS\u001b[0m\u001b[1;33m[\u001b[0m\u001b[0mnp\u001b[0m\u001b[1;33m.\u001b[0m\u001b[0mcos\u001b[0m\u001b[1;33m]\u001b[0m \u001b[1;33m=\u001b[0m \u001b[0mhelper_radian_to_dimensionless\u001b[0m\u001b[1;33m\u001b[0m\u001b[0m\n",
      "\u001b[1;31mTypeError\u001b[0m: Can only apply 'sin' function to quantities with angle units"
     ]
    }
   ],
   "source": [
    "# Using numpy to calculate the sin of the RA\n",
    "import numpy as np\n",
    "np.sin(table['RA'].quantity)"
   ]
  },
  {
   "cell_type": "code",
   "execution_count": 18,
   "metadata": {
    "collapsed": true
   },
   "outputs": [],
   "source": [
    "# Let's change the units...\n",
    "import astropy.units as u\n",
    "table['RA'].unit = u.hourangle"
   ]
  },
  {
   "cell_type": "code",
   "execution_count": 19,
   "metadata": {
    "collapsed": false
   },
   "outputs": [
    {
     "data": {
      "text/latex": [
       "$[-0.99806309,~-0.9982008,~-0.99847709,~\\dots, -0.99835018,~-0.99799924,~-0.99604107] \\; \\mathrm{}$"
      ],
      "text/plain": [
       "<Quantity [-0.99806309,-0.9982008 ,-0.99847709,-0.99874134,-0.99898044,\n",
       "           -0.99879546,-0.99980149,-0.99952242,-0.99924325,-0.99183891,\n",
       "           -0.9932805 ,-0.99946459,-0.99995531,-0.99991809,-0.99847307,\n",
       "           -0.99993971,-0.99975403,-0.99999762,-0.99790622,-0.99995462,\n",
       "           -0.999968  ,-0.99998813,-0.9971138 ,-0.99980149,-0.99444562,\n",
       "           -0.99971206,-0.99985022,-0.99948345,-0.99974917,-0.99891373,\n",
       "           -0.99920603,-0.99903549,-0.99812146,-0.99844887,-0.99908901,\n",
       "           -0.99875226,-0.9988933 ,-0.99853273,-0.99858735,-0.99878831,\n",
       "           -0.99857573,-0.99831238,-0.99823551,-0.99644401,-0.99807213,\n",
       "           -0.99760446,-0.99757419,-0.9945219 ,-0.99690591,-0.99661351,\n",
       "           -0.99542404,-0.99163366,-0.99512753,-0.9958315 ,-0.99389695,\n",
       "           -0.99541708,-0.99091487,-0.99491006,-0.98975548,-0.9942604 ,\n",
       "           -0.99361295,-0.99453709,-0.99153952,-0.99408796,-0.99248398,\n",
       "           -0.9926257 ,-0.99074784,-0.98930418,-0.9909637 ,-0.98980732,\n",
       "           -0.98949427,-0.98852686,-0.98962006,-0.98576467,-0.98890811,\n",
       "           -0.98379389,-0.98493377,-0.9816965 ,-0.98555606,-0.98089861,\n",
       "           -0.97956062,-0.9719439 ,-0.98162718,-0.97518157,-0.97684374,\n",
       "           -0.95881973,-0.97321232,-0.97621724,-0.97493947,-0.97253943,\n",
       "           -0.9735789 ,-0.97029573,-0.96526393,-0.97740052,-0.96110117,\n",
       "           -0.95060606,-0.95736153,-0.95685585,-0.95715118,-0.95221828,\n",
       "           -0.95902602,-0.94492511,-0.94239849,-0.93384079,-0.90844739,\n",
       "           -0.92301447,-0.91821611,-0.92050485,-0.93768694,-0.91534077,\n",
       "           -0.90154953,-0.90829534,-0.89127049,-0.8774254 ,-0.91879121,\n",
       "           -0.88260595,-0.87770434,-0.84650304,-0.88020139,-0.86014915,\n",
       "           -0.83328326,-0.73432251,-0.82895623,-0.81327006,-0.81706105,\n",
       "           -0.82164694,-0.74629945,-0.72737364,-0.73530901,-0.71120857,\n",
       "           -0.75183981,-0.73011259,-0.61106662,-0.62649045,-0.60702915,\n",
       "           -0.39273843,-0.28540959,-0.25213973,-0.15887609,-0.1019968 ,\n",
       "           -0.10018806,-0.02763086,-0.00363609, 0.02908472, 0.110168  ,\n",
       "            0.35020738, 0.37595473, 0.52131996, 0.565207  , 0.96440374,\n",
       "            0.96704594, 0.98933598, 0.99961819, 0.99580493, 0.99936518,\n",
       "            0.99382453, 0.99725019, 0.99917088, 0.98555606, 0.97753867,\n",
       "            0.813693  , 0.6936114 , 0.78260816, 0.7313537 , 0.6857125 ,\n",
       "            0.50879101, 0.42952627, 0.35972541, 0.25354691, 0.24580085,\n",
       "            0.20833847, 0.15384817, 0.17651213, 0.10886687, 0.1038052 ,\n",
       "            0.03853315,-0.04216629, 0.00654494,-0.05524063,-0.05966934,\n",
       "           -0.06634646,-0.09475989,-0.16468897,-0.19901161,-0.28394562,\n",
       "           -0.41317066,-0.43247921,-0.4482142 ,-0.46368267,-0.49242356,\n",
       "           -0.5       ,-0.52113377,-0.54829323,-0.57714519,-0.58954885,\n",
       "           -0.65275975,-0.62903777,-0.63748002,-0.64778756,-0.67451717,\n",
       "           -0.69098756,-0.70246367,-0.75039955,-0.75993347,-0.77645902,\n",
       "           -0.76791099,-0.77544983,-0.78988751,-0.85035222,-0.85358868,\n",
       "           -0.84553374,-0.83946183,-0.83580736,-0.71579431,-0.85604162,\n",
       "           -0.86891961,-0.73727734,-0.86841525,-0.89353471,-0.90173824,\n",
       "           -0.89751508,-0.94456754,-0.92007808,-0.92748322,-0.93350222,\n",
       "           -0.93889416,-0.93345006,-0.92824257,-0.9382165 ,-0.93664672,\n",
       "           -0.94117602,-0.94139698,-0.94903657,-0.95062863,-0.95049314,\n",
       "           -0.9600702 ,-0.9598461 ,-0.95465261,-0.98836151,-0.97437006,\n",
       "           -0.96639478,-0.97013718,-0.97371159,-0.97659413,-0.97977946,\n",
       "           -0.9811524 ,-0.9800116 ,-0.97985215,-0.98265328,-0.98324165,\n",
       "           -0.9901666 ,-0.98298882,-0.98660777,-0.98555606,-0.99078728,\n",
       "           -0.9900646 ,-0.99254615,-0.99577159,-0.99170859,-0.9945219 ,\n",
       "           -0.99218745,-0.99418234,-0.99810359,-0.9840407 ,-0.99536828,\n",
       "           -0.9971138 ,-0.99637629,-0.99563693,-0.98901586,-0.99496852,\n",
       "           -0.99817893,-0.99835018,-0.99799924,-0.99604107]>"
      ]
     },
     "execution_count": 19,
     "metadata": {},
     "output_type": "execute_result"
    }
   ],
   "source": [
    "# does the sin now works?\n",
    "np.sin(table['RA'].quantity)"
   ]
  },
  {
   "cell_type": "markdown",
   "metadata": {},
   "source": [
    "## Properties when reading\n",
    "\n",
    "the reading of the table has many properties, let's imagine the following easy example:"
   ]
  },
  {
   "cell_type": "code",
   "execution_count": 20,
   "metadata": {
    "collapsed": true,
    "keep": true
   },
   "outputs": [],
   "source": [
    "weather_data = \"\"\"\n",
    "# Country = Finland\n",
    "# City = Helsinki\n",
    "# Longitud = 24.9375\n",
    "# Latitud = 60.170833\n",
    "# Week = 32\n",
    "# Year = 2015\n",
    "day, precip, type\n",
    "Mon,1.5,rain\n",
    "Tues,,\n",
    "Wed,1.1,snow\n",
    "Thur,2.3,rain\n",
    "Fri,0.2,\n",
    "Sat,1.1,snow\n",
    "Sun,5.4,snow\n",
    "\"\"\""
   ]
  },
  {
   "cell_type": "code",
   "execution_count": 21,
   "metadata": {
    "collapsed": true
   },
   "outputs": [],
   "source": [
    "# Read the table\n",
    "weather = ascii.read(weather_data)"
   ]
  },
  {
   "cell_type": "code",
   "execution_count": 22,
   "metadata": {
    "collapsed": false
   },
   "outputs": [
    {
     "name": "stdout",
     "output_type": "stream",
     "text": [
      "<Table masked=True length=7>\n",
      " name       mean          std      min max n_bad\n",
      "------ ------------- ------------- --- --- -----\n",
      "   day            --            --  --  --     0\n",
      "precip 1.93333333333 1.66999667332 0.2 5.4     1\n",
      "  type            --            --  --  --     2\n"
     ]
    }
   ],
   "source": [
    "# Blank values are interpreted by default as bad/missing values\n",
    "weather.info('stats')"
   ]
  },
  {
   "cell_type": "code",
   "execution_count": 23,
   "metadata": {
    "collapsed": false
   },
   "outputs": [],
   "source": [
    "# Let's define missing values for the columns we want:\n",
    "weather['type'].fill_value = 'N/A'\n",
    "weather['precip'].fill_value = -999"
   ]
  },
  {
   "cell_type": "code",
   "execution_count": 24,
   "metadata": {
    "collapsed": false
   },
   "outputs": [
    {
     "data": {
      "text/html": [
       "&lt;Table length=7&gt;\n",
       "<table id=\"table140239238278864\">\n",
       "<thead><tr><th>day</th><th>precip</th><th>type</th></tr></thead>\n",
       "<thead><tr><th>str4</th><th>float64</th><th>str4</th></tr></thead>\n",
       "<tr><td>Mon</td><td>1.5</td><td>rain</td></tr>\n",
       "<tr><td>Tues</td><td>-999.0</td><td>N/A</td></tr>\n",
       "<tr><td>Wed</td><td>1.1</td><td>snow</td></tr>\n",
       "<tr><td>Thur</td><td>2.3</td><td>rain</td></tr>\n",
       "<tr><td>Fri</td><td>0.2</td><td>N/A</td></tr>\n",
       "<tr><td>Sat</td><td>1.1</td><td>snow</td></tr>\n",
       "<tr><td>Sun</td><td>5.4</td><td>snow</td></tr>\n",
       "</table>"
      ],
      "text/plain": [
       "<Table length=7>\n",
       "day   precip type\n",
       "str4 float64 str4\n",
       "---- ------- ----\n",
       " Mon     1.5 rain\n",
       "Tues  -999.0  N/A\n",
       " Wed     1.1 snow\n",
       "Thur     2.3 rain\n",
       " Fri     0.2  N/A\n",
       " Sat     1.1 snow\n",
       " Sun     5.4 snow"
      ]
     },
     "execution_count": 24,
     "metadata": {},
     "output_type": "execute_result"
    }
   ],
   "source": [
    "# Use filled to show the value filled.\n",
    "weather.filled()"
   ]
  },
  {
   "cell_type": "code",
   "execution_count": 25,
   "metadata": {
    "collapsed": false
   },
   "outputs": [
    {
     "data": {
      "text/plain": [
       "OrderedDict([('comments',\n",
       "              ['Country = Finland',\n",
       "               'City = Helsinki',\n",
       "               'Longitud = 24.9375',\n",
       "               'Latitud = 60.170833',\n",
       "               'Week = 32',\n",
       "               'Year = 2015'])])"
      ]
     },
     "execution_count": 25,
     "metadata": {},
     "output_type": "execute_result"
    }
   ],
   "source": [
    "# We can see the meta as a dictionary, but not as key, value pairs\n",
    "weather.meta"
   ]
  },
  {
   "cell_type": "code",
   "execution_count": 26,
   "metadata": {
    "collapsed": false
   },
   "outputs": [
    {
     "name": "stdout",
     "output_type": "stream",
     "text": [
      "  key       val   \n",
      "-------- ---------\n",
      " Country   Finland\n",
      "    City  Helsinki\n",
      "Longitud   24.9375\n",
      " Latitud 60.170833\n",
      "    Week        32\n",
      "    Year      2015\n"
     ]
    }
   ],
   "source": [
    "# To get it the header as a table\n",
    "header = ascii.read(weather.meta['comments'], delimiter='=',\n",
    "                    format='no_header', names=['key', 'val'])\n",
    "print(header)"
   ]
  },
  {
   "cell_type": "markdown",
   "metadata": {},
   "source": [
    "When the values are not empty, then the keyword `fill_values` on `read` has [to be used](http://astropy.readthedocs.org/en/stable/io/ascii/read.html#bad-or-missing-values).\n"
   ]
  },
  {
   "cell_type": "markdown",
   "metadata": {
    "collapsed": false
   },
   "source": [
    "## Reading VOTables\n",
    "\n",
    "VOTables are an special type of tables which should be self-consistent and can be tied to a particular scheme.\n",
    "This mean the file will contain where the data comes from (and which query produced it) and the properties for each field, making it easier to ingest by a machine."
   ]
  },
  {
   "cell_type": "code",
   "execution_count": 27,
   "metadata": {
    "collapsed": false,
    "keep": true
   },
   "outputs": [],
   "source": [
    "from astropy.io.votable import parse_single_table"
   ]
  },
  {
   "cell_type": "code",
   "execution_count": 28,
   "metadata": {
    "collapsed": false
   },
   "outputs": [
    {
     "name": "stderr",
     "output_type": "stream",
     "text": [
      "WARNING: W03: hfc_ar.xml:10:0: W03: Implicitly generating an ID from a name 'OBSERVATORY,VIEW_AR_GUI' -> 'OBSERVATORY_VIEW_AR_GUI' [astropy.io.votable.exceptions]\n",
      "WARNING:astropy:W03: hfc_ar.xml:10:0: W03: Implicitly generating an ID from a name 'OBSERVATORY,VIEW_AR_GUI' -> 'OBSERVATORY_VIEW_AR_GUI'\n"
     ]
    }
   ],
   "source": [
    "# Read the example table from HELIO (hfc_ar.xml)\n",
    "table = parse_single_table(\"hfc_ar.xml\")"
   ]
  },
  {
   "cell_type": "code",
   "execution_count": 29,
   "metadata": {
    "collapsed": false
   },
   "outputs": [
    {
     "data": {
      "text/plain": [
       "[<FIELD ID=\"ID_AR\" datatype=\"int\" name=\"ID_AR\" ucd=\"meta.id\" utype=\"ar.id\"/>,\n",
       " <FIELD ID=\"DATE_OBS\" arraysize=\"*\" datatype=\"char\" name=\"DATE_OBS\" ucd=\"time.start;obs\" utype=\"image.time_obs | time_period.time_start.first_observation_time\"/>,\n",
       " <FIELD ID=\"NOAA_NUMBER\" datatype=\"int\" name=\"NOAA_NUMBER\" ucd=\"meta.id\" utype=\"ar.noaa_solar_region_id\"/>,\n",
       " <FIELD ID=\"FEAT_HG_LAT_DEG\" datatype=\"float\" name=\"FEAT_HG_LAT_DEG\" ucd=\"pos.heliographic;pos.barycenter;pos.bodyrc.lat\" unit=\"deg\" utype=\"feature.centre.lat_hg\"/>,\n",
       " <FIELD ID=\"FEAT_AREA_DEG2\" datatype=\"float\" name=\"FEAT_AREA_DEG2\" ucd=\"phys.area\" unit=\"deg2\" utype=\"feature.area.area_deg_sq\"/>,\n",
       " <FIELD ID=\"FEAT_X_ARCSEC\" datatype=\"double\" name=\"FEAT_X_ARCSEC\" ucd=\"pos.wcs;pos.barycenter;Qualifier.DirectionAngle.AzimuthAngle\" unit=\"arcs\" utype=\"feature.centre.x_cart\"/>,\n",
       " <FIELD ID=\"FEAT_Y_ARCSEC\" datatype=\"double\" name=\"FEAT_Y_ARCSEC\" ucd=\"pos.wcs;pos.barycenter;Qualifier.DirectionAngle.ElevationAngle\" unit=\"arcs\" utype=\"feature.centre.y_cart\"/>,\n",
       " <FIELD ID=\"FEAT_MAX_INT\" datatype=\"float\" name=\"FEAT_MAX_INT\" ucd=\"MeasurementType.ImageIntensity;stat.max\" unit=\"gauss\" utype=\"feature.max_intensity\"/>,\n",
       " <FIELD ID=\"FEAT_MIN_INT\" datatype=\"float\" name=\"FEAT_MIN_INT\" ucd=\"MeasurementType.ImageIntensity;stat.min\" unit=\"gauss\" utype=\"feature.min_intensity\"/>,\n",
       " <FIELD ID=\"FEAT_MEAN_INT\" datatype=\"float\" name=\"FEAT_MEAN_INT\" ucd=\"MeasurementType.ImageIntensity;stat.mean\" unit=\"gauss\" utype=\"feature.mean_intensity\"/>]"
      ]
     },
     "execution_count": 29,
     "metadata": {},
     "output_type": "execute_result"
    }
   ],
   "source": [
    "# See the fields of the table\n",
    "table.fields"
   ]
  },
  {
   "cell_type": "code",
   "execution_count": 30,
   "metadata": {
    "collapsed": false
   },
   "outputs": [],
   "source": [
    "# extract one  (NOAA_NUMBER) or all of the columns\n",
    "NOAA = table.array['NOAA_NUMBER']"
   ]
  },
  {
   "cell_type": "code",
   "execution_count": 31,
   "metadata": {
    "collapsed": false
   },
   "outputs": [
    {
     "data": {
      "text/plain": [
       "array([      10321, -2147483648,       10325, ..., -2147483648,\n",
       "             10332, -2147483648], dtype=int32)"
      ]
     },
     "execution_count": 31,
     "metadata": {},
     "output_type": "execute_result"
    }
   ],
   "source": [
    "# Show the data\n",
    "NOAA.data"
   ]
  },
  {
   "cell_type": "code",
   "execution_count": 32,
   "metadata": {
    "collapsed": false
   },
   "outputs": [
    {
     "data": {
      "text/plain": [
       "array([False,  True, False, ...,  True, False,  True], dtype=bool)"
      ]
     },
     "execution_count": 32,
     "metadata": {},
     "output_type": "execute_result"
    }
   ],
   "source": [
    "# See the mask\n",
    "NOAA.mask"
   ]
  },
  {
   "cell_type": "code",
   "execution_count": 33,
   "metadata": {
    "collapsed": false
   },
   "outputs": [
    {
     "data": {
      "text/plain": [
       "masked_array(data = [10321 -- 10325 ..., -- 10332 --],\n",
       "             mask = [False  True False ...,  True False  True],\n",
       "       fill_value = 999999)"
      ]
     },
     "execution_count": 33,
     "metadata": {},
     "output_type": "execute_result"
    }
   ],
   "source": [
    "# Shee the whole array.\n",
    "NOAA"
   ]
  },
  {
   "cell_type": "code",
   "execution_count": 34,
   "metadata": {
    "collapsed": false
   },
   "outputs": [],
   "source": [
    "# Convert the table to an astropy table\n",
    "asttable = table.to_table()"
   ]
  },
  {
   "cell_type": "code",
   "execution_count": 35,
   "metadata": {
    "collapsed": false
   },
   "outputs": [
    {
     "data": {
      "text/html": [
       "&lt;Table masked=True length=3037&gt;\n",
       "<table id=\"table140239233671760\">\n",
       "<thead><tr><th>ID_AR</th><th>DATE_OBS</th><th>NOAA_NUMBER</th><th>FEAT_HG_LAT_DEG</th><th>FEAT_AREA_DEG2</th><th>FEAT_X_ARCSEC</th><th>FEAT_Y_ARCSEC</th><th>FEAT_MAX_INT</th><th>FEAT_MIN_INT</th><th>FEAT_MEAN_INT</th></tr></thead>\n",
       "<thead><tr><th></th><th></th><th></th><th>deg</th><th>deg2</th><th>arcs</th><th>arcs</th><th>gauss</th><th>gauss</th><th>gauss</th></tr></thead>\n",
       "<thead><tr><th>int32</th><th>object</th><th>int32</th><th>float32</th><th>float32</th><th>float64</th><th>float64</th><th>float32</th><th>float32</th><th>float32</th></tr></thead>\n",
       "<tr><td>247523</td><td>2003-04-01T00:00:00</td><td>10321</td><td>4.87889</td><td>190.33</td><td>273.78399999999999</td><td>185.994</td><td>1789.54</td><td>-2573.3201</td><td>-0.46051401</td></tr>\n",
       "<tr><td>247528</td><td>2003-04-01T00:00:00</td><td>--</td><td>-12.1797</td><td>160.16</td><td>-188.178</td><td>-96.1541</td><td>2147.6201</td><td>-1722.37</td><td>-46.435699</td></tr>\n",
       "<tr><td>247539</td><td>2003-04-01T00:00:00</td><td>10325</td><td>12.3932</td><td>147.224</td><td>-458.50900000000001</td><td>298.358</td><td>3202.8701</td><td>-1377.66</td><td>-2.20612</td></tr>\n",
       "<tr><td>247545</td><td>2003-04-01T00:00:00</td><td>--</td><td>-15.9363</td><td>129.17799</td><td>-577.27200000000005</td><td>-179.56999999999999</td><td>766.06</td><td>-2342.4299</td><td>32.803101</td></tr>\n",
       "<tr><td>247549</td><td>2003-04-01T00:00:00</td><td>10323</td><td>-7.57478</td><td>108.752</td><td>472.27600000000001</td><td>-31.2653</td><td>2495.7</td><td>-2757.1101</td><td>-4.3433499</td></tr>\n",
       "<tr><td>247563</td><td>2003-04-01T00:00:00</td><td>10318</td><td>-14.9789</td><td>77.475998</td><td>705.50699999999995</td><td>-177.726</td><td>1379.92</td><td>-1706.51</td><td>-18.2155</td></tr>\n",
       "<tr><td>247581</td><td>2003-04-01T00:00:00</td><td>10319</td><td>12.0031</td><td>62.118</td><td>799.56500000000005</td><td>254.83600000000001</td><td>2780.72</td><td>-1257.1</td><td>-11.4169</td></tr>\n",
       "<tr><td>247591</td><td>2003-04-01T00:00:00</td><td>--</td><td>9.3859196</td><td>46.102001</td><td>-251.09299999999999</td><td>260.08199999999999</td><td>902.16302</td><td>0.0</td><td>51.014099</td></tr>\n",
       "<tr><td>247595</td><td>2003-04-01T00:00:00</td><td>--</td><td>-25.298</td><td>35.77</td><td>222.72</td><td>-311.79500000000002</td><td>80.717697</td><td>-727.44299</td><td>-37.111</td></tr>\n",
       "<tr><td>...</td><td>...</td><td>...</td><td>...</td><td>...</td><td>...</td><td>...</td><td>...</td><td>...</td><td>...</td></tr>\n",
       "<tr><td>268597</td><td>2003-04-16T00:00:00</td><td>10334</td><td>-8.70121</td><td>98.573997</td><td>-17.854299999999999</td><td>-52.354100000000003</td><td>1070.77</td><td>-2614.1399</td><td>-8.5475798</td></tr>\n",
       "<tr><td>268599</td><td>2003-04-16T00:00:00</td><td>--</td><td>18.068001</td><td>59.891998</td><td>-175.74000000000001</td><td>381.72199999999998</td><td>840.00299</td><td>-831.59003</td><td>25.4533</td></tr>\n",
       "<tr><td>268602</td><td>2003-04-16T00:00:00</td><td>10335</td><td>-21.757099</td><td>53.382</td><td>-469.75299999999999</td><td>-279.74200000000002</td><td>1158.71</td><td>-1231.86</td><td>-15.6804</td></tr>\n",
       "<tr><td>268607</td><td>2003-04-16T00:00:00</td><td>--</td><td>-8.2958803</td><td>43.610001</td><td>-238.803</td><td>-48.5501</td><td>773.19897</td><td>-896.87598</td><td>-4.4306302</td></tr>\n",
       "<tr><td>268610</td><td>2003-04-16T00:00:00</td><td>--</td><td>-25.8505</td><td>29.035999</td><td>-698.45000000000005</td><td>-366.28100000000001</td><td>884.698</td><td>-856.461</td><td>-6.8229899</td></tr>\n",
       "<tr><td>268611</td><td>2003-04-16T00:00:00</td><td>--</td><td>9.7694597</td><td>12.628</td><td>750.81700000000001</td><td>216.76499999999999</td><td>766.763</td><td>-150.491</td><td>41.4245</td></tr>\n",
       "<tr><td>268615</td><td>2003-04-16T00:00:00</td><td>--</td><td>-5.10109</td><td>12.18</td><td>-492.81999999999999</td><td>-5.5906700000000003</td><td>0.0</td><td>-517.284</td><td>-44.7612</td></tr>\n",
       "<tr><td>268624</td><td>2003-04-16T00:00:00</td><td>--</td><td>16.0196</td><td>11.508</td><td>-420.512</td><td>341.94900000000001</td><td>84.997002</td><td>-611.87402</td><td>-33.491901</td></tr>\n",
       "<tr><td>268637</td><td>2003-04-16T00:00:00</td><td>10332</td><td>11.5611</td><td>9.0860004</td><td>704.524</td><td>250.667</td><td>532.935</td><td>-733.26202</td><td>-6.8816299</td></tr>\n",
       "<tr><td>268642</td><td>2003-04-16T00:00:00</td><td>--</td><td>11.9425</td><td>8.5539999</td><td>-381.387</td><td>279.82100000000003</td><td>0.0</td><td>-640.14502</td><td>-37.867901</td></tr>\n",
       "</table>"
      ],
      "text/plain": [
       "<Table masked=True length=3037>\n",
       "ID_AR        DATE_OBS      NOAA_NUMBER ... FEAT_MIN_INT FEAT_MEAN_INT\n",
       "                                       ...    gauss         gauss    \n",
       "int32         object          int32    ...   float32       float32   \n",
       "------ ------------------- ----------- ... ------------ -------------\n",
       "247523 2003-04-01T00:00:00       10321 ...   -2573.3201   -0.46051401\n",
       "247528 2003-04-01T00:00:00          -- ...     -1722.37    -46.435699\n",
       "247539 2003-04-01T00:00:00       10325 ...     -1377.66      -2.20612\n",
       "247545 2003-04-01T00:00:00          -- ...   -2342.4299     32.803101\n",
       "247549 2003-04-01T00:00:00       10323 ...   -2757.1101    -4.3433499\n",
       "247563 2003-04-01T00:00:00       10318 ...     -1706.51      -18.2155\n",
       "247581 2003-04-01T00:00:00       10319 ...      -1257.1      -11.4169\n",
       "247591 2003-04-01T00:00:00          -- ...          0.0     51.014099\n",
       "247595 2003-04-01T00:00:00          -- ...   -727.44299       -37.111\n",
       "   ...                 ...         ... ...          ...           ...\n",
       "268597 2003-04-16T00:00:00       10334 ...   -2614.1399    -8.5475798\n",
       "268599 2003-04-16T00:00:00          -- ...   -831.59003       25.4533\n",
       "268602 2003-04-16T00:00:00       10335 ...     -1231.86      -15.6804\n",
       "268607 2003-04-16T00:00:00          -- ...   -896.87598    -4.4306302\n",
       "268610 2003-04-16T00:00:00          -- ...     -856.461    -6.8229899\n",
       "268611 2003-04-16T00:00:00          -- ...     -150.491       41.4245\n",
       "268615 2003-04-16T00:00:00          -- ...     -517.284      -44.7612\n",
       "268624 2003-04-16T00:00:00          -- ...   -611.87402    -33.491901\n",
       "268637 2003-04-16T00:00:00       10332 ...   -733.26202    -6.8816299\n",
       "268642 2003-04-16T00:00:00          -- ...   -640.14502    -37.867901"
      ]
     },
     "execution_count": 35,
     "metadata": {},
     "output_type": "execute_result"
    }
   ],
   "source": [
    "# See the table\n",
    "asttable"
   ]
  },
  {
   "cell_type": "code",
   "execution_count": 36,
   "metadata": {
    "collapsed": false
   },
   "outputs": [
    {
     "name": "stdout",
     "output_type": "stream",
     "text": [
      "FEAT_HG_LAT_DEG\n",
      "---------------\n",
      "      -0.986171\n",
      "       0.377107\n",
      "      -0.172306\n",
      "       0.226358\n",
      "      -0.961276\n",
      "[ 0.08504982 -0.21097848  0.21461941 -0.27456847 -0.13182007]\n"
     ]
    }
   ],
   "source": [
    "# Different results because quantities are not \n",
    "print(np.sin(asttable['FEAT_HG_LAT_DEG'][0:5]))\n",
    "print(np.sin(asttable['FEAT_HG_LAT_DEG'][0:5].quantity))\n"
   ]
  },
  {
   "cell_type": "code",
   "execution_count": 37,
   "metadata": {
    "collapsed": false
   },
   "outputs": [
    {
     "name": "stdout",
     "output_type": "stream",
     "text": [
      "[ 685188.       576576.       530006.375    465040.78125  391507.1875 ] arcmin2\n"
     ]
    }
   ],
   "source": [
    "# And it can also be converted to other units\n",
    "print(asttable[0:5]['FEAT_AREA_DEG2'].quantity.to('arcmin2'))"
   ]
  }
 ],
 "metadata": {
  "kernelspec": {
   "display_name": "Python 2",
   "language": "python2",
   "name": "python2"
  },
  "language_info": {
   "codemirror_mode": {
    "name": "ipython",
    "version": 2
   },
   "file_extension": ".py",
   "mimetype": "text/x-python",
   "name": "python",
   "nbconvert_exporter": "python",
   "pygments_lexer": "ipython2",
   "version": "2.7.11"
  }
 },
 "nbformat": 4,
 "nbformat_minor": 0
}
