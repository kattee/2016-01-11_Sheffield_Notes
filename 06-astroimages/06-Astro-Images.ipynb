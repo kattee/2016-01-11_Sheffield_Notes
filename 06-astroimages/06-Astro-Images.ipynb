{
 "cells": [
  {
   "cell_type": "code",
   "execution_count": null,
   "metadata": {
    "autoscroll": "json-false",
    "collapsed": false,
    "ein.tags": [
     "worksheet-0"
    ]
   },
   "outputs": [],
   "source": [
    "from __future__ import division, print_function"
   ]
  },
  {
   "cell_type": "markdown",
   "metadata": {
    "ein.tags": [
     "worksheet-0"
    ]
   },
   "source": [
    "# Images in Astronomy"
   ]
  },
  {
   "cell_type": "markdown",
   "metadata": {
    "ein.tags": [
     "worksheet-0"
    ]
   },
   "source": [
    "In this lesson we are going to look at aspects of processing and viewing images specific to Astronomy and Solar Astronomy. By the end of this lesson you should understand:\n",
    "\n",
    "* Projected Coordinate Systems in Images\n",
    "* World Coordinate Systems\n",
    "* Using WCS to calculate coordinates in images\n",
    "* Plotting images with WCS in images\n",
    "* Using SunPy Map"
   ]
  },
  {
   "cell_type": "markdown",
   "metadata": {
    "ein.tags": [
     "worksheet-0"
    ]
   },
   "source": [
    "## Projected Coordinate Systems"
   ]
  },
  {
   "cell_type": "markdown",
   "metadata": {
    "ein.tags": [
     "worksheet-0"
    ]
   },
   "source": [
    "When taking images of the sky, we are projecting the spherical celestial coordinate system onto a 2-dimensional plane, which means that there is no simple linear relation between pixel coordinates and celestial coordinates\n",
    "\n",
    "There are multiple coordinate systems used to describe the locations in 2D and 3D space for both Astronomy and Solar Physics. We shall use a couple of these systems here as examples but if you want to know more about them there are many of resources avalible."
   ]
  },
  {
   "cell_type": "markdown",
   "metadata": {
    "ein.tags": [
     "worksheet-0"
    ]
   },
   "source": [
    "### World Coordinate System"
   ]
  },
  {
   "cell_type": "markdown",
   "metadata": {
    "ein.tags": [
     "worksheet-0"
    ]
   },
   "source": [
    "The FITS files have a standard for describing the physical coordinate system associated with imaging data, this is called the world coordinate system or WCS, sometimes the specific FITS version of this is referred to as FITS-WCS.\n",
    "\n",
    "There are multiple papers describing the FITS-WCS standard for various types of data, there is a list here: http://fits.gsfc.nasa.gov/fits_wcs.html"
   ]
  },
  {
   "cell_type": "markdown",
   "metadata": {
    "ein.tags": [
     "worksheet-0"
    ]
   },
   "source": [
    "As you learned in the previous lesson we can load FITS files with Astropy. To demonstrate a simple example of a FITS file with FITS-WCS information in the header we shall use an image from SunPy:"
   ]
  },
  {
   "cell_type": "code",
   "execution_count": null,
   "metadata": {
    "collapsed": false
   },
   "outputs": [],
   "source": [
    "import sunpy.data\n",
    "sunpy.data.download_sample_data()"
   ]
  },
  {
   "cell_type": "code",
   "execution_count": null,
   "metadata": {
    "autoscroll": "json-false",
    "collapsed": false,
    "ein.tags": [
     "worksheet-0"
    ],
    "scrolled": true
   },
   "outputs": [],
   "source": [
    "from astropy.io import fits"
   ]
  },
  {
   "cell_type": "code",
   "execution_count": null,
   "metadata": {
    "collapsed": true
   },
   "outputs": [],
   "source": [
    "from sunpy.data.sample import AIA_171_ROLL_IMAGE"
   ]
  },
  {
   "cell_type": "code",
   "execution_count": null,
   "metadata": {
    "collapsed": true
   },
   "outputs": [],
   "source": [
    "hdulist = fits.open(AIA_171_ROLL_IMAGE)"
   ]
  },
  {
   "cell_type": "code",
   "execution_count": null,
   "metadata": {
    "collapsed": false
   },
   "outputs": [],
   "source": [
    "type(hdulist)"
   ]
  },
  {
   "cell_type": "code",
   "execution_count": null,
   "metadata": {
    "collapsed": false
   },
   "outputs": [],
   "source": [
    "hdulist.info()"
   ]
  },
  {
   "cell_type": "code",
   "execution_count": null,
   "metadata": {
    "collapsed": false
   },
   "outputs": [],
   "source": [
    "hdu = hdulist[0]\n",
    "hdu"
   ]
  },
  {
   "cell_type": "code",
   "execution_count": null,
   "metadata": {
    "collapsed": false
   },
   "outputs": [],
   "source": [
    "hdu.header"
   ]
  },
  {
   "cell_type": "markdown",
   "metadata": {
    "ein.tags": [
     "worksheet-0"
    ]
   },
   "source": [
    "As you can see there are lots of keys in this and most other real world FITS headers. The ones we need to understand for FITS-WCS are:"
   ]
  },
  {
   "cell_type": "markdown",
   "metadata": {
    "ein.tags": [
     "worksheet-0"
    ]
   },
   "source": [
    "Reference Pixel and Coordinate:"
   ]
  },
  {
   "cell_type": "code",
   "execution_count": null,
   "metadata": {
    "autoscroll": "json-false",
    "collapsed": false,
    "ein.tags": [
     "worksheet-0"
    ]
   },
   "outputs": [],
   "source": [
    "header = hdulist[0].header\n",
    "\n",
    "print(header['CRVAL1'], header['CRVAL2'])  #actual coordinate value at the reference pixel value below\n",
    "print(header['CRPIX1'], header['CRPIX2'])  #at x pixel coordinate and y pixel coordinate"
   ]
  },
  {
   "cell_type": "markdown",
   "metadata": {
    "ein.tags": [
     "worksheet-0"
    ]
   },
   "source": [
    "Pixel resolution (at the reference pixel):"
   ]
  },
  {
   "cell_type": "code",
   "execution_count": null,
   "metadata": {
    "autoscroll": "json-false",
    "collapsed": false,
    "ein.tags": [
     "worksheet-0"
    ]
   },
   "outputs": [],
   "source": [
    "print(header['CDELT1'], header['CDELT2'])  #size of each pixel"
   ]
  },
  {
   "cell_type": "markdown",
   "metadata": {
    "ein.tags": [
     "worksheet-0"
    ]
   },
   "source": [
    "Rotation angle, in degress (at the reference pixel):"
   ]
  },
  {
   "cell_type": "code",
   "execution_count": null,
   "metadata": {
    "autoscroll": "json-false",
    "collapsed": false,
    "ein.tags": [
     "worksheet-0"
    ]
   },
   "outputs": [],
   "source": [
    "print(header['CROTA2']) #image is rotated by 45 degrees to the left in this case"
   ]
  },
  {
   "cell_type": "markdown",
   "metadata": {
    "ein.tags": [
     "worksheet-0"
    ]
   },
   "source": [
    "Coordinate System and Projection:"
   ]
  },
  {
   "cell_type": "code",
   "execution_count": null,
   "metadata": {
    "autoscroll": "json-false",
    "collapsed": false,
    "ein.tags": [
     "worksheet-0"
    ]
   },
   "outputs": [],
   "source": [
    "print(header['CTYPE1'], header['CTYPE2'])"
   ]
  },
  {
   "cell_type": "markdown",
   "metadata": {},
   "source": [
    "<section class=\"objectives panel panel-success\">\n",
    "<div class=\"panel-heading\">\n",
    "<h2><span class=\"fa fa-pencil\"></span> Keyword Extraction </h2>\n",
    "</div>\n",
    "\n",
    "Extract and print out the `TELESCOP` value from the header.\n",
    "\n",
    "Next, extract the `WAVELNTH` and `WAVEUNIT` values, use these to construct an astropy Quantity object for the wavelength of this image.\n",
    "\n"
   ]
  },
  {
   "cell_type": "code",
   "execution_count": null,
   "metadata": {
    "collapsed": false
   },
   "outputs": [],
   "source": [
    "print(header['TELESCOP'])\n",
    "print(header['WAVELNTH'])\n",
    "print(header['WAVEUNIT'])"
   ]
  },
  {
   "cell_type": "code",
   "execution_count": null,
   "metadata": {
    "collapsed": false
   },
   "outputs": [],
   "source": [
    "from astropy import units as u\n",
    "\n",
    "wavelength = u.Quantity(header['WAVELNTH']) * u.Unit(header['WAVEUNIT'])\n",
    "\n",
    "print(wavelength)"
   ]
  },
  {
   "cell_type": "markdown",
   "metadata": {
    "ein.tags": [
     "worksheet-0"
    ]
   },
   "source": [
    "We could now sit down and work out how to convert from a pixel coordinate to a physical coordinate described by this header (Helioprojective).\n",
    "\n",
    "However, we can cheat and just use Astropy."
   ]
  },
  {
   "cell_type": "code",
   "execution_count": null,
   "metadata": {
    "autoscroll": "json-false",
    "collapsed": false,
    "ein.tags": [
     "worksheet-0"
    ]
   },
   "outputs": [],
   "source": [
    "from astropy.wcs import WCS\n",
    "wcs = WCS(header)\n",
    "wcs"
   ]
  },
  {
   "cell_type": "markdown",
   "metadata": {
    "ein.tags": [
     "worksheet-0"
    ]
   },
   "source": [
    "We can convert from pixel to world coordinate:"
   ]
  },
  {
   "cell_type": "code",
   "execution_count": null,
   "metadata": {
    "autoscroll": "json-false",
    "collapsed": false,
    "ein.tags": [
     "worksheet-0"
    ]
   },
   "outputs": [],
   "source": [
    "wcs.all_pix2world([[300, 300]], 0)  #convert pixel 300,300 to world co-ordinates\n",
    "#0 means it is counting from 0, 1 would mean we are counting pixels starting at 1\n",
    "#output is in degrees"
   ]
  },
  {
   "cell_type": "markdown",
   "metadata": {
    "ein.tags": [
     "worksheet-0"
    ]
   },
   "source": [
    "Or back again:"
   ]
  },
  {
   "cell_type": "code",
   "execution_count": null,
   "metadata": {
    "autoscroll": "json-false",
    "collapsed": false,
    "ein.tags": [
     "worksheet-0"
    ]
   },
   "outputs": [],
   "source": [
    "wcs.all_world2pix([[  3.59587957e+02,   5.18354457e-04]], 0)"
   ]
  },
  {
   "cell_type": "markdown",
   "metadata": {
    "ein.tags": [
     "worksheet-0"
    ]
   },
   "source": [
    "The last parameter to the two above examples is the 'origin' parameter. It is a flag that tells WCS if you indexes should be 0-based (like numpy) or 1-based (like FITS).\n",
    "Here we are using 0 as we want to convert to and from numpy indexes of the array."
   ]
  },
  {
   "cell_type": "markdown",
   "metadata": {
    "ein.tags": [
     "worksheet-0"
    ]
   },
   "source": [
    "<section class=\"objectives panel panel-success\">\n",
    "<div class=\"panel-heading\">\n",
    "<h2><span class=\"fa fa-pencil\"></span> How large is the image? </h2>\n",
    "</div>\n",
    "<br/>\n",
    "To get a little practise using Astropy's WCS calculate the world coordinates of the following pixels:\n",
    "<code>\n",
    "[-500, 0]\n",
    "[500, 500]\n",
    "[0, 0]\n",
    "</code>\n",
    "<br/>\n",
    "</section>"
   ]
  },
  {
   "cell_type": "code",
   "execution_count": null,
   "metadata": {
    "autoscroll": "json-false",
    "collapsed": false,
    "ein.tags": [
     "worksheet-0"
    ]
   },
   "outputs": [],
   "source": [
    "wcs.all_pix2world([[-500, 0]], 0)"
   ]
  },
  {
   "cell_type": "code",
   "execution_count": null,
   "metadata": {
    "collapsed": false
   },
   "outputs": [],
   "source": [
    "wcs.all_pix2world([[500, 500]], 0)\n"
   ]
  },
  {
   "cell_type": "code",
   "execution_count": null,
   "metadata": {
    "collapsed": false
   },
   "outputs": [],
   "source": [
    "wcs.all_pix2world([[0, 0]], 0)"
   ]
  },
  {
   "cell_type": "markdown",
   "metadata": {
    "ein.tags": [
     "worksheet-0"
    ]
   },
   "source": [
    "## Plotting with wcsaxes"
   ]
  },
  {
   "cell_type": "markdown",
   "metadata": {
    "ein.tags": [
     "worksheet-0"
    ]
   },
   "source": [
    "In this section we are going to use the wcsaxes package to make WCS aware image plots."
   ]
  },
  {
   "cell_type": "code",
   "execution_count": null,
   "metadata": {
    "autoscroll": "json-false",
    "collapsed": false,
    "ein.tags": [
     "worksheet-0"
    ]
   },
   "outputs": [],
   "source": [
    "import wcsaxes"
   ]
  },
  {
   "cell_type": "markdown",
   "metadata": {
    "ein.tags": [
     "worksheet-0"
    ]
   },
   "source": [
    "For this example we are going to use a Hubble image."
   ]
  },
  {
   "cell_type": "code",
   "execution_count": null,
   "metadata": {
    "autoscroll": "json-false",
    "collapsed": false,
    "ein.tags": [
     "worksheet-0"
    ]
   },
   "outputs": [],
   "source": [
    "from astropy.io import fits\n",
    "hdulist = fits.open('./h_n4571_f555_mosaic.fits.gz')\n",
    "hdulist.info()"
   ]
  },
  {
   "cell_type": "code",
   "execution_count": null,
   "metadata": {
    "autoscroll": "json-false",
    "collapsed": false,
    "ein.tags": [
     "worksheet-0"
    ]
   },
   "outputs": [],
   "source": [
    "wcs = WCS(hdulist[0].header)"
   ]
  },
  {
   "cell_type": "code",
   "execution_count": null,
   "metadata": {
    "autoscroll": "json-false",
    "collapsed": false,
    "ein.tags": [
     "worksheet-0"
    ]
   },
   "outputs": [],
   "source": [
    "%matplotlib nbagg\n",
    "import matplotlib.pyplot as plt"
   ]
  },
  {
   "cell_type": "code",
   "execution_count": null,
   "metadata": {
    "autoscroll": "json-false",
    "collapsed": false,
    "ein.tags": [
     "worksheet-0"
    ]
   },
   "outputs": [],
   "source": [
    "ax = plt.subplot(111, projection=wcs)\n",
    "ax.imshow(hdulist[0].data, cmap='gray', vmax=1000, interpolation='none')\n",
    "\n",
    "#note can move mouse over image and get world co-ordinates (press W and will switch to pixel co-ordinates)"
   ]
  },
  {
   "cell_type": "markdown",
   "metadata": {
    "ein.tags": [
     "worksheet-0"
    ]
   },
   "source": [
    "This image now has physcial labels in the native coordinate system of the image. We can see what the coordinate system and projection of this image is using the 'CTYPE' header entries we saw earlier."
   ]
  },
  {
   "cell_type": "code",
   "execution_count": null,
   "metadata": {
    "autoscroll": "json-false",
    "collapsed": false,
    "ein.tags": [
     "worksheet-0"
    ]
   },
   "outputs": [],
   "source": [
    "print(hdulist[0].header['CTYPE1'], hdulist[0].header['CTYPE2'])"
   ]
  },
  {
   "cell_type": "markdown",
   "metadata": {
    "ein.tags": [
     "worksheet-0"
    ]
   },
   "source": [
    "We can tell that this is in the FK5 coordinate system by the presence of a 'equinox' entry in the header:"
   ]
  },
  {
   "cell_type": "code",
   "execution_count": null,
   "metadata": {
    "autoscroll": "json-false",
    "collapsed": false,
    "ein.tags": [
     "worksheet-0"
    ]
   },
   "outputs": [],
   "source": [
    "hdulist[0].header['equinox']"
   ]
  },
  {
   "cell_type": "markdown",
   "metadata": {
    "ein.tags": [
     "worksheet-0"
    ]
   },
   "source": [
    "There is also a quick way to generate an Astropy coordinate frame from a WCS object, which confirms this diagnosis."
   ]
  },
  {
   "cell_type": "code",
   "execution_count": null,
   "metadata": {
    "autoscroll": "json-false",
    "collapsed": false,
    "ein.tags": [
     "worksheet-0"
    ]
   },
   "outputs": [],
   "source": [
    "from astropy.wcs.utils import wcs_to_celestial_frame\n",
    "wcs_to_celestial_frame(wcs)"
   ]
  },
  {
   "cell_type": "markdown",
   "metadata": {
    "ein.tags": [
     "worksheet-0"
    ]
   },
   "source": [
    "for more information on the very useful `astropy.coordinates` module see http://docs.astropy.org/en/stable/coordinates/"
   ]
  },
  {
   "cell_type": "markdown",
   "metadata": {
    "ein.tags": [
     "worksheet-0"
    ]
   },
   "source": [
    "<section class=\"objectives panel panel-success\">\n",
    "<div class=\"panel-heading\">\n",
    "<h2><span class=\"fa fa-pencil\"></span> Add some labels </h2>\n",
    "</div>\n",
    "<br/>\n",
    "Now we have a nice plot with physically meaningful ticks, we should label our axes.\n",
    "<br/>\n",
    "\n",
    "Add labels to the axes saying \"Right Ascension [degrees]\" and \"Declination [degrees]\"\n",
    "<br/>\n",
    "\n",
    "Also overlay a coordinate grid using:\n",
    "<code>ax.coords.grid()</code>\n",
    "Look up the documentation for this method to see what parameters you can specify.\n",
    "<br/>\n",
    "</section>"
   ]
  },
  {
   "cell_type": "code",
   "execution_count": null,
   "metadata": {
    "autoscroll": "json-false",
    "collapsed": false,
    "ein.tags": [
     "worksheet-0"
    ]
   },
   "outputs": [],
   "source": [
    "ax = plt.subplot(111, projection=wcs)\n",
    "ax.imshow(hdulist[0].data, cmap='gray', vmax=1000, interpolation='none')\n",
    "\n",
    "ax.set_xlabel('Right Ascention [degrees]')\n",
    "ax.set_ylabel('Declination [degrees]')\n",
    "ax.grid(color='w')\n",
    "ax.coords.grid(draw_grid=True, grid_type='lines')\n",
    "\n",
    "#ax.coords.grid(color='cyan', linestyle='solid')\n",
    "\n",
    "ax.set_autoscale_on(False) #stops white box appearing around image\n",
    "\n",
    "ax.plot(3000,3000, 'o')  #overplots o point\n",
    "ax.plot(189.25,14.23, 'o', transform=ax.get_transform('fk5'))  #overplots o point in fk5 co-ordinate system\n",
    "\n"
   ]
  },
  {
   "cell_type": "code",
   "execution_count": null,
   "metadata": {
    "collapsed": false
   },
   "outputs": [],
   "source": [
    "ax = plt.subplot(111, projection=wcs)\n",
    "ax.imshow(hdulist[0].data, cmap='gray', vmax=1000, interpolation='none', origin='lower') #note changed origin\n",
    "\n",
    "ax.set_xlabel('Right Ascention [degrees]')\n",
    "ax.set_ylabel('Declination [degrees]')\n",
    "ax.grid(color='w')\n",
    "ax.coords.grid(draw_grid=True, grid_type='lines')\n",
    "\n",
    "#ax.coords.grid(color='cyan', linestyle='solid')\n",
    "\n",
    "ax.set_autoscale_on(False) #stops white box appearing around image\n",
    "\n",
    "ax.plot(3000,3000, 'o')  #overplots o point\n",
    "ax.plot(189.25,14.23, 'o', transform=ax.get_transform('fk5'))  #overplots o point in fk5 co-ordinate system\n",
    "\n",
    "overlay = ax.get_coords_overlay('galactic') #or any co-ordinate system astropy understands\n",
    "overlay.grid(color='orange', linestyle='solid')\n",
    "overlay['l'].set_axislabel(\"Galactic Longitude [degrees]\")\n",
    "overlay['b'].set_axislabel(\"Galactic Latitude [degrees]\")"
   ]
  },
  {
   "cell_type": "markdown",
   "metadata": {
    "ein.tags": [
     "worksheet-0"
    ]
   },
   "source": [
    "Now we have a nice plot, we can do a couple of things to plot."
   ]
  },
  {
   "cell_type": "markdown",
   "metadata": {
    "ein.tags": [
     "worksheet-0"
    ]
   },
   "source": [
    "### Overplotting in Pixel Coordinates"
   ]
  },
  {
   "cell_type": "code",
   "execution_count": null,
   "metadata": {
    "autoscroll": "json-false",
    "collapsed": false,
    "ein.tags": [
     "worksheet-0"
    ]
   },
   "outputs": [],
   "source": []
  },
  {
   "cell_type": "markdown",
   "metadata": {
    "ein.tags": [
     "worksheet-0"
    ]
   },
   "source": [
    "### Overplotting in World Coordinates"
   ]
  },
  {
   "cell_type": "code",
   "execution_count": null,
   "metadata": {
    "autoscroll": "json-false",
    "collapsed": false,
    "ein.tags": [
     "worksheet-0"
    ]
   },
   "outputs": [],
   "source": [
    "# Overplot in FK5 in Degrees\n"
   ]
  },
  {
   "cell_type": "markdown",
   "metadata": {
    "ein.tags": [
     "worksheet-0"
    ]
   },
   "source": [
    "<section class=\"objectives panel panel-success\">\n",
    "<div class=\"panel-heading\">\n",
    "<h2><span class=\"fa fa-pencil\"></span> Add some labels </h2>\n",
    "</div>\n",
    "\n",
    "Now overplot two lines on the image, one where you specified the line in pixel coordinates, and one where you specified the line in FK5 world coordinates.\n",
    "\n",
    "</section>"
   ]
  },
  {
   "cell_type": "code",
   "execution_count": null,
   "metadata": {
    "collapsed": false
   },
   "outputs": [],
   "source": [
    "# Overplot in FK5 in Degrees\n"
   ]
  },
  {
   "cell_type": "markdown",
   "metadata": {},
   "source": [
    "###  Overplotting Another Coordinate System"
   ]
  },
  {
   "cell_type": "code",
   "execution_count": null,
   "metadata": {
    "autoscroll": "json-false",
    "collapsed": false,
    "ein.tags": [
     "worksheet-0"
    ]
   },
   "outputs": [],
   "source": []
  },
  {
   "cell_type": "markdown",
   "metadata": {
    "ein.tags": [
     "worksheet-0"
    ]
   },
   "source": [
    "## SunPy Map"
   ]
  },
  {
   "cell_type": "markdown",
   "metadata": {
    "ein.tags": [
     "worksheet-0"
    ]
   },
   "source": [
    "The SunPy Map class is a wrapper for solar images which makes some of the above opertations easier."
   ]
  },
  {
   "cell_type": "code",
   "execution_count": 3,
   "metadata": {
    "autoscroll": "json-false",
    "collapsed": false,
    "ein.tags": [
     "worksheet-0"
    ]
   },
   "outputs": [],
   "source": [
    "import sunpy.map\n",
    "from sunpy.data.sample import AIA_171_ROLL_IMAGE"
   ]
  },
  {
   "cell_type": "code",
   "execution_count": null,
   "metadata": {
    "collapsed": false
   },
   "outputs": [],
   "source": [
    "amap = sunpy.map.Map(AIA_171_ROLL_IMAGE)\n",
    "amap.peek()"
   ]
  },
  {
   "cell_type": "markdown",
   "metadata": {
    "ein.tags": [
     "worksheet-0"
    ]
   },
   "source": [
    "This has done a quick plot of the test image `AIA_171_ROLL_IMAGE` using wcsaxes.\n",
    "If we want to customise the plot we use the `plot()` method."
   ]
  },
  {
   "cell_type": "code",
   "execution_count": 1,
   "metadata": {
    "autoscroll": "json-false",
    "collapsed": false,
    "ein.tags": [
     "worksheet-0"
    ]
   },
   "outputs": [],
   "source": [
    "import astropy.units as u\n",
    "%matplotlib nbagg\n",
    "import matplotlib.pyplot as plt"
   ]
  },
  {
   "cell_type": "code",
   "execution_count": 5,
   "metadata": {
    "autoscroll": "json-false",
    "collapsed": false,
    "ein.tags": [
     "worksheet-0"
    ]
   },
   "outputs": [
    {
     "data": {
      "application/javascript": [
       "/* Put everything inside the global mpl namespace */\n",
       "window.mpl = {};\n",
       "\n",
       "mpl.get_websocket_type = function() {\n",
       "    if (typeof(WebSocket) !== 'undefined') {\n",
       "        return WebSocket;\n",
       "    } else if (typeof(MozWebSocket) !== 'undefined') {\n",
       "        return MozWebSocket;\n",
       "    } else {\n",
       "        alert('Your browser does not have WebSocket support.' +\n",
       "              'Please try Chrome, Safari or Firefox ≥ 6. ' +\n",
       "              'Firefox 4 and 5 are also supported but you ' +\n",
       "              'have to enable WebSockets in about:config.');\n",
       "    };\n",
       "}\n",
       "\n",
       "mpl.figure = function(figure_id, websocket, ondownload, parent_element) {\n",
       "    this.id = figure_id;\n",
       "\n",
       "    this.ws = websocket;\n",
       "\n",
       "    this.supports_binary = (this.ws.binaryType != undefined);\n",
       "\n",
       "    if (!this.supports_binary) {\n",
       "        var warnings = document.getElementById(\"mpl-warnings\");\n",
       "        if (warnings) {\n",
       "            warnings.style.display = 'block';\n",
       "            warnings.textContent = (\n",
       "                \"This browser does not support binary websocket messages. \" +\n",
       "                    \"Performance may be slow.\");\n",
       "        }\n",
       "    }\n",
       "\n",
       "    this.imageObj = new Image();\n",
       "\n",
       "    this.context = undefined;\n",
       "    this.message = undefined;\n",
       "    this.canvas = undefined;\n",
       "    this.rubberband_canvas = undefined;\n",
       "    this.rubberband_context = undefined;\n",
       "    this.format_dropdown = undefined;\n",
       "\n",
       "    this.image_mode = 'full';\n",
       "\n",
       "    this.root = $('<div/>');\n",
       "    this._root_extra_style(this.root)\n",
       "    this.root.attr('style', 'display: inline-block');\n",
       "\n",
       "    $(parent_element).append(this.root);\n",
       "\n",
       "    this._init_header(this);\n",
       "    this._init_canvas(this);\n",
       "    this._init_toolbar(this);\n",
       "\n",
       "    var fig = this;\n",
       "\n",
       "    this.waiting = false;\n",
       "\n",
       "    this.ws.onopen =  function () {\n",
       "            fig.send_message(\"supports_binary\", {value: fig.supports_binary});\n",
       "            fig.send_message(\"send_image_mode\", {});\n",
       "            fig.send_message(\"refresh\", {});\n",
       "        }\n",
       "\n",
       "    this.imageObj.onload = function() {\n",
       "            if (fig.image_mode == 'full') {\n",
       "                // Full images could contain transparency (where diff images\n",
       "                // almost always do), so we need to clear the canvas so that\n",
       "                // there is no ghosting.\n",
       "                fig.context.clearRect(0, 0, fig.canvas.width, fig.canvas.height);\n",
       "            }\n",
       "            fig.context.drawImage(fig.imageObj, 0, 0);\n",
       "        };\n",
       "\n",
       "    this.imageObj.onunload = function() {\n",
       "        this.ws.close();\n",
       "    }\n",
       "\n",
       "    this.ws.onmessage = this._make_on_message_function(this);\n",
       "\n",
       "    this.ondownload = ondownload;\n",
       "}\n",
       "\n",
       "mpl.figure.prototype._init_header = function() {\n",
       "    var titlebar = $(\n",
       "        '<div class=\"ui-dialog-titlebar ui-widget-header ui-corner-all ' +\n",
       "        'ui-helper-clearfix\"/>');\n",
       "    var titletext = $(\n",
       "        '<div class=\"ui-dialog-title\" style=\"width: 100%; ' +\n",
       "        'text-align: center; padding: 3px;\"/>');\n",
       "    titlebar.append(titletext)\n",
       "    this.root.append(titlebar);\n",
       "    this.header = titletext[0];\n",
       "}\n",
       "\n",
       "\n",
       "\n",
       "mpl.figure.prototype._canvas_extra_style = function(canvas_div) {\n",
       "\n",
       "}\n",
       "\n",
       "\n",
       "mpl.figure.prototype._root_extra_style = function(canvas_div) {\n",
       "\n",
       "}\n",
       "\n",
       "mpl.figure.prototype._init_canvas = function() {\n",
       "    var fig = this;\n",
       "\n",
       "    var canvas_div = $('<div/>');\n",
       "\n",
       "    canvas_div.attr('style', 'position: relative; clear: both; outline: 0');\n",
       "\n",
       "    function canvas_keyboard_event(event) {\n",
       "        return fig.key_event(event, event['data']);\n",
       "    }\n",
       "\n",
       "    canvas_div.keydown('key_press', canvas_keyboard_event);\n",
       "    canvas_div.keyup('key_release', canvas_keyboard_event);\n",
       "    this.canvas_div = canvas_div\n",
       "    this._canvas_extra_style(canvas_div)\n",
       "    this.root.append(canvas_div);\n",
       "\n",
       "    var canvas = $('<canvas/>');\n",
       "    canvas.addClass('mpl-canvas');\n",
       "    canvas.attr('style', \"left: 0; top: 0; z-index: 0; outline: 0\")\n",
       "\n",
       "    this.canvas = canvas[0];\n",
       "    this.context = canvas[0].getContext(\"2d\");\n",
       "\n",
       "    var rubberband = $('<canvas/>');\n",
       "    rubberband.attr('style', \"position: absolute; left: 0; top: 0; z-index: 1;\")\n",
       "\n",
       "    var pass_mouse_events = true;\n",
       "\n",
       "    canvas_div.resizable({\n",
       "        start: function(event, ui) {\n",
       "            pass_mouse_events = false;\n",
       "        },\n",
       "        resize: function(event, ui) {\n",
       "            fig.request_resize(ui.size.width, ui.size.height);\n",
       "        },\n",
       "        stop: function(event, ui) {\n",
       "            pass_mouse_events = true;\n",
       "            fig.request_resize(ui.size.width, ui.size.height);\n",
       "        },\n",
       "    });\n",
       "\n",
       "    function mouse_event_fn(event) {\n",
       "        if (pass_mouse_events)\n",
       "            return fig.mouse_event(event, event['data']);\n",
       "    }\n",
       "\n",
       "    rubberband.mousedown('button_press', mouse_event_fn);\n",
       "    rubberband.mouseup('button_release', mouse_event_fn);\n",
       "    // Throttle sequential mouse events to 1 every 20ms.\n",
       "    rubberband.mousemove('motion_notify', mouse_event_fn);\n",
       "\n",
       "    rubberband.mouseenter('figure_enter', mouse_event_fn);\n",
       "    rubberband.mouseleave('figure_leave', mouse_event_fn);\n",
       "\n",
       "    canvas_div.on(\"wheel\", function (event) {\n",
       "        event = event.originalEvent;\n",
       "        event['data'] = 'scroll'\n",
       "        if (event.deltaY < 0) {\n",
       "            event.step = 1;\n",
       "        } else {\n",
       "            event.step = -1;\n",
       "        }\n",
       "        mouse_event_fn(event);\n",
       "    });\n",
       "\n",
       "    canvas_div.append(canvas);\n",
       "    canvas_div.append(rubberband);\n",
       "\n",
       "    this.rubberband = rubberband;\n",
       "    this.rubberband_canvas = rubberband[0];\n",
       "    this.rubberband_context = rubberband[0].getContext(\"2d\");\n",
       "    this.rubberband_context.strokeStyle = \"#000000\";\n",
       "\n",
       "    this._resize_canvas = function(width, height) {\n",
       "        // Keep the size of the canvas, canvas container, and rubber band\n",
       "        // canvas in synch.\n",
       "        canvas_div.css('width', width)\n",
       "        canvas_div.css('height', height)\n",
       "\n",
       "        canvas.attr('width', width);\n",
       "        canvas.attr('height', height);\n",
       "\n",
       "        rubberband.attr('width', width);\n",
       "        rubberband.attr('height', height);\n",
       "    }\n",
       "\n",
       "    // Set the figure to an initial 600x600px, this will subsequently be updated\n",
       "    // upon first draw.\n",
       "    this._resize_canvas(600, 600);\n",
       "\n",
       "    // Disable right mouse context menu.\n",
       "    $(this.rubberband_canvas).bind(\"contextmenu\",function(e){\n",
       "        return false;\n",
       "    });\n",
       "\n",
       "    function set_focus () {\n",
       "        canvas.focus();\n",
       "        canvas_div.focus();\n",
       "    }\n",
       "\n",
       "    window.setTimeout(set_focus, 100);\n",
       "}\n",
       "\n",
       "mpl.figure.prototype._init_toolbar = function() {\n",
       "    var fig = this;\n",
       "\n",
       "    var nav_element = $('<div/>')\n",
       "    nav_element.attr('style', 'width: 100%');\n",
       "    this.root.append(nav_element);\n",
       "\n",
       "    // Define a callback function for later on.\n",
       "    function toolbar_event(event) {\n",
       "        return fig.toolbar_button_onclick(event['data']);\n",
       "    }\n",
       "    function toolbar_mouse_event(event) {\n",
       "        return fig.toolbar_button_onmouseover(event['data']);\n",
       "    }\n",
       "\n",
       "    for(var toolbar_ind in mpl.toolbar_items) {\n",
       "        var name = mpl.toolbar_items[toolbar_ind][0];\n",
       "        var tooltip = mpl.toolbar_items[toolbar_ind][1];\n",
       "        var image = mpl.toolbar_items[toolbar_ind][2];\n",
       "        var method_name = mpl.toolbar_items[toolbar_ind][3];\n",
       "\n",
       "        if (!name) {\n",
       "            // put a spacer in here.\n",
       "            continue;\n",
       "        }\n",
       "        var button = $('<button/>');\n",
       "        button.addClass('ui-button ui-widget ui-state-default ui-corner-all ' +\n",
       "                        'ui-button-icon-only');\n",
       "        button.attr('role', 'button');\n",
       "        button.attr('aria-disabled', 'false');\n",
       "        button.click(method_name, toolbar_event);\n",
       "        button.mouseover(tooltip, toolbar_mouse_event);\n",
       "\n",
       "        var icon_img = $('<span/>');\n",
       "        icon_img.addClass('ui-button-icon-primary ui-icon');\n",
       "        icon_img.addClass(image);\n",
       "        icon_img.addClass('ui-corner-all');\n",
       "\n",
       "        var tooltip_span = $('<span/>');\n",
       "        tooltip_span.addClass('ui-button-text');\n",
       "        tooltip_span.html(tooltip);\n",
       "\n",
       "        button.append(icon_img);\n",
       "        button.append(tooltip_span);\n",
       "\n",
       "        nav_element.append(button);\n",
       "    }\n",
       "\n",
       "    var fmt_picker_span = $('<span/>');\n",
       "\n",
       "    var fmt_picker = $('<select/>');\n",
       "    fmt_picker.addClass('mpl-toolbar-option ui-widget ui-widget-content');\n",
       "    fmt_picker_span.append(fmt_picker);\n",
       "    nav_element.append(fmt_picker_span);\n",
       "    this.format_dropdown = fmt_picker[0];\n",
       "\n",
       "    for (var ind in mpl.extensions) {\n",
       "        var fmt = mpl.extensions[ind];\n",
       "        var option = $(\n",
       "            '<option/>', {selected: fmt === mpl.default_extension}).html(fmt);\n",
       "        fmt_picker.append(option)\n",
       "    }\n",
       "\n",
       "    // Add hover states to the ui-buttons\n",
       "    $( \".ui-button\" ).hover(\n",
       "        function() { $(this).addClass(\"ui-state-hover\");},\n",
       "        function() { $(this).removeClass(\"ui-state-hover\");}\n",
       "    );\n",
       "\n",
       "    var status_bar = $('<span class=\"mpl-message\"/>');\n",
       "    nav_element.append(status_bar);\n",
       "    this.message = status_bar[0];\n",
       "}\n",
       "\n",
       "mpl.figure.prototype.request_resize = function(x_pixels, y_pixels) {\n",
       "    // Request matplotlib to resize the figure. Matplotlib will then trigger a resize in the client,\n",
       "    // which will in turn request a refresh of the image.\n",
       "    this.send_message('resize', {'width': x_pixels, 'height': y_pixels});\n",
       "}\n",
       "\n",
       "mpl.figure.prototype.send_message = function(type, properties) {\n",
       "    properties['type'] = type;\n",
       "    properties['figure_id'] = this.id;\n",
       "    this.ws.send(JSON.stringify(properties));\n",
       "}\n",
       "\n",
       "mpl.figure.prototype.send_draw_message = function() {\n",
       "    if (!this.waiting) {\n",
       "        this.waiting = true;\n",
       "        this.ws.send(JSON.stringify({type: \"draw\", figure_id: this.id}));\n",
       "    }\n",
       "}\n",
       "\n",
       "\n",
       "mpl.figure.prototype.handle_save = function(fig, msg) {\n",
       "    var format_dropdown = fig.format_dropdown;\n",
       "    var format = format_dropdown.options[format_dropdown.selectedIndex].value;\n",
       "    fig.ondownload(fig, format);\n",
       "}\n",
       "\n",
       "\n",
       "mpl.figure.prototype.handle_resize = function(fig, msg) {\n",
       "    var size = msg['size'];\n",
       "    if (size[0] != fig.canvas.width || size[1] != fig.canvas.height) {\n",
       "        fig._resize_canvas(size[0], size[1]);\n",
       "        fig.send_message(\"refresh\", {});\n",
       "    };\n",
       "}\n",
       "\n",
       "mpl.figure.prototype.handle_rubberband = function(fig, msg) {\n",
       "    var x0 = msg['x0'];\n",
       "    var y0 = fig.canvas.height - msg['y0'];\n",
       "    var x1 = msg['x1'];\n",
       "    var y1 = fig.canvas.height - msg['y1'];\n",
       "    x0 = Math.floor(x0) + 0.5;\n",
       "    y0 = Math.floor(y0) + 0.5;\n",
       "    x1 = Math.floor(x1) + 0.5;\n",
       "    y1 = Math.floor(y1) + 0.5;\n",
       "    var min_x = Math.min(x0, x1);\n",
       "    var min_y = Math.min(y0, y1);\n",
       "    var width = Math.abs(x1 - x0);\n",
       "    var height = Math.abs(y1 - y0);\n",
       "\n",
       "    fig.rubberband_context.clearRect(\n",
       "        0, 0, fig.canvas.width, fig.canvas.height);\n",
       "\n",
       "    fig.rubberband_context.strokeRect(min_x, min_y, width, height);\n",
       "}\n",
       "\n",
       "mpl.figure.prototype.handle_figure_label = function(fig, msg) {\n",
       "    // Updates the figure title.\n",
       "    fig.header.textContent = msg['label'];\n",
       "}\n",
       "\n",
       "mpl.figure.prototype.handle_cursor = function(fig, msg) {\n",
       "    var cursor = msg['cursor'];\n",
       "    switch(cursor)\n",
       "    {\n",
       "    case 0:\n",
       "        cursor = 'pointer';\n",
       "        break;\n",
       "    case 1:\n",
       "        cursor = 'default';\n",
       "        break;\n",
       "    case 2:\n",
       "        cursor = 'crosshair';\n",
       "        break;\n",
       "    case 3:\n",
       "        cursor = 'move';\n",
       "        break;\n",
       "    }\n",
       "    fig.rubberband_canvas.style.cursor = cursor;\n",
       "}\n",
       "\n",
       "mpl.figure.prototype.handle_message = function(fig, msg) {\n",
       "    fig.message.textContent = msg['message'];\n",
       "}\n",
       "\n",
       "mpl.figure.prototype.handle_draw = function(fig, msg) {\n",
       "    // Request the server to send over a new figure.\n",
       "    fig.send_draw_message();\n",
       "}\n",
       "\n",
       "mpl.figure.prototype.handle_image_mode = function(fig, msg) {\n",
       "    fig.image_mode = msg['mode'];\n",
       "}\n",
       "\n",
       "mpl.figure.prototype.updated_canvas_event = function() {\n",
       "    // Called whenever the canvas gets updated.\n",
       "    this.send_message(\"ack\", {});\n",
       "}\n",
       "\n",
       "// A function to construct a web socket function for onmessage handling.\n",
       "// Called in the figure constructor.\n",
       "mpl.figure.prototype._make_on_message_function = function(fig) {\n",
       "    return function socket_on_message(evt) {\n",
       "        if (evt.data instanceof Blob) {\n",
       "            /* FIXME: We get \"Resource interpreted as Image but\n",
       "             * transferred with MIME type text/plain:\" errors on\n",
       "             * Chrome.  But how to set the MIME type?  It doesn't seem\n",
       "             * to be part of the websocket stream */\n",
       "            evt.data.type = \"image/png\";\n",
       "\n",
       "            /* Free the memory for the previous frames */\n",
       "            if (fig.imageObj.src) {\n",
       "                (window.URL || window.webkitURL).revokeObjectURL(\n",
       "                    fig.imageObj.src);\n",
       "            }\n",
       "\n",
       "            fig.imageObj.src = (window.URL || window.webkitURL).createObjectURL(\n",
       "                evt.data);\n",
       "            fig.updated_canvas_event();\n",
       "            fig.waiting = false;\n",
       "            return;\n",
       "        }\n",
       "        else if (typeof evt.data === 'string' && evt.data.slice(0, 21) == \"data:image/png;base64\") {\n",
       "            fig.imageObj.src = evt.data;\n",
       "            fig.updated_canvas_event();\n",
       "            fig.waiting = false;\n",
       "            return;\n",
       "        }\n",
       "\n",
       "        var msg = JSON.parse(evt.data);\n",
       "        var msg_type = msg['type'];\n",
       "\n",
       "        // Call the  \"handle_{type}\" callback, which takes\n",
       "        // the figure and JSON message as its only arguments.\n",
       "        try {\n",
       "            var callback = fig[\"handle_\" + msg_type];\n",
       "        } catch (e) {\n",
       "            console.log(\"No handler for the '\" + msg_type + \"' message type: \", msg);\n",
       "            return;\n",
       "        }\n",
       "\n",
       "        if (callback) {\n",
       "            try {\n",
       "                // console.log(\"Handling '\" + msg_type + \"' message: \", msg);\n",
       "                callback(fig, msg);\n",
       "            } catch (e) {\n",
       "                console.log(\"Exception inside the 'handler_\" + msg_type + \"' callback:\", e, e.stack, msg);\n",
       "            }\n",
       "        }\n",
       "    };\n",
       "}\n",
       "\n",
       "// from http://stackoverflow.com/questions/1114465/getting-mouse-location-in-canvas\n",
       "mpl.findpos = function(e) {\n",
       "    //this section is from http://www.quirksmode.org/js/events_properties.html\n",
       "    var targ;\n",
       "    if (!e)\n",
       "        e = window.event;\n",
       "    if (e.target)\n",
       "        targ = e.target;\n",
       "    else if (e.srcElement)\n",
       "        targ = e.srcElement;\n",
       "    if (targ.nodeType == 3) // defeat Safari bug\n",
       "        targ = targ.parentNode;\n",
       "\n",
       "    // jQuery normalizes the pageX and pageY\n",
       "    // pageX,Y are the mouse positions relative to the document\n",
       "    // offset() returns the position of the element relative to the document\n",
       "    var x = e.pageX - $(targ).offset().left;\n",
       "    var y = e.pageY - $(targ).offset().top;\n",
       "\n",
       "    return {\"x\": x, \"y\": y};\n",
       "};\n",
       "\n",
       "/*\n",
       " * return a copy of an object with only non-object keys\n",
       " * we need this to avoid circular references\n",
       " * http://stackoverflow.com/a/24161582/3208463\n",
       " */\n",
       "function simpleKeys (original) {\n",
       "  return Object.keys(original).reduce(function (obj, key) {\n",
       "    if (typeof original[key] !== 'object')\n",
       "        obj[key] = original[key]\n",
       "    return obj;\n",
       "  }, {});\n",
       "}\n",
       "\n",
       "mpl.figure.prototype.mouse_event = function(event, name) {\n",
       "    var canvas_pos = mpl.findpos(event)\n",
       "\n",
       "    if (name === 'button_press')\n",
       "    {\n",
       "        this.canvas.focus();\n",
       "        this.canvas_div.focus();\n",
       "    }\n",
       "\n",
       "    var x = canvas_pos.x;\n",
       "    var y = canvas_pos.y;\n",
       "\n",
       "    this.send_message(name, {x: x, y: y, button: event.button,\n",
       "                             step: event.step,\n",
       "                             guiEvent: simpleKeys(event)});\n",
       "\n",
       "    /* This prevents the web browser from automatically changing to\n",
       "     * the text insertion cursor when the button is pressed.  We want\n",
       "     * to control all of the cursor setting manually through the\n",
       "     * 'cursor' event from matplotlib */\n",
       "    event.preventDefault();\n",
       "    return false;\n",
       "}\n",
       "\n",
       "mpl.figure.prototype._key_event_extra = function(event, name) {\n",
       "    // Handle any extra behaviour associated with a key event\n",
       "}\n",
       "\n",
       "mpl.figure.prototype.key_event = function(event, name) {\n",
       "\n",
       "    // Prevent repeat events\n",
       "    if (name == 'key_press')\n",
       "    {\n",
       "        if (event.which === this._key)\n",
       "            return;\n",
       "        else\n",
       "            this._key = event.which;\n",
       "    }\n",
       "    if (name == 'key_release')\n",
       "        this._key = null;\n",
       "\n",
       "    var value = '';\n",
       "    if (event.ctrlKey && event.which != 17)\n",
       "        value += \"ctrl+\";\n",
       "    if (event.altKey && event.which != 18)\n",
       "        value += \"alt+\";\n",
       "    if (event.shiftKey && event.which != 16)\n",
       "        value += \"shift+\";\n",
       "\n",
       "    value += 'k';\n",
       "    value += event.which.toString();\n",
       "\n",
       "    this._key_event_extra(event, name);\n",
       "\n",
       "    this.send_message(name, {key: value,\n",
       "                             guiEvent: simpleKeys(event)});\n",
       "    return false;\n",
       "}\n",
       "\n",
       "mpl.figure.prototype.toolbar_button_onclick = function(name) {\n",
       "    if (name == 'download') {\n",
       "        this.handle_save(this, null);\n",
       "    } else {\n",
       "        this.send_message(\"toolbar_button\", {name: name});\n",
       "    }\n",
       "};\n",
       "\n",
       "mpl.figure.prototype.toolbar_button_onmouseover = function(tooltip) {\n",
       "    this.message.textContent = tooltip;\n",
       "};\n",
       "mpl.toolbar_items = [[\"Home\", \"Reset original view\", \"fa fa-home icon-home\", \"home\"], [\"Back\", \"Back to  previous view\", \"fa fa-arrow-left icon-arrow-left\", \"back\"], [\"Forward\", \"Forward to next view\", \"fa fa-arrow-right icon-arrow-right\", \"forward\"], [\"\", \"\", \"\", \"\"], [\"Pan\", \"Pan axes with left mouse, zoom with right\", \"fa fa-arrows icon-move\", \"pan\"], [\"Zoom\", \"Zoom to rectangle\", \"fa fa-square-o icon-check-empty\", \"zoom\"], [\"\", \"\", \"\", \"\"], [\"Download\", \"Download plot\", \"fa fa-floppy-o icon-save\", \"download\"]];\n",
       "\n",
       "mpl.extensions = [\"eps\", \"jpeg\", \"pdf\", \"png\", \"ps\", \"raw\", \"svg\", \"tif\"];\n",
       "\n",
       "mpl.default_extension = \"png\";var comm_websocket_adapter = function(comm) {\n",
       "    // Create a \"websocket\"-like object which calls the given IPython comm\n",
       "    // object with the appropriate methods. Currently this is a non binary\n",
       "    // socket, so there is still some room for performance tuning.\n",
       "    var ws = {};\n",
       "\n",
       "    ws.close = function() {\n",
       "        comm.close()\n",
       "    };\n",
       "    ws.send = function(m) {\n",
       "        //console.log('sending', m);\n",
       "        comm.send(m);\n",
       "    };\n",
       "    // Register the callback with on_msg.\n",
       "    comm.on_msg(function(msg) {\n",
       "        //console.log('receiving', msg['content']['data'], msg);\n",
       "        // Pass the mpl event to the overriden (by mpl) onmessage function.\n",
       "        ws.onmessage(msg['content']['data'])\n",
       "    });\n",
       "    return ws;\n",
       "}\n",
       "\n",
       "mpl.mpl_figure_comm = function(comm, msg) {\n",
       "    // This is the function which gets called when the mpl process\n",
       "    // starts-up an IPython Comm through the \"matplotlib\" channel.\n",
       "\n",
       "    var id = msg.content.data.id;\n",
       "    // Get hold of the div created by the display call when the Comm\n",
       "    // socket was opened in Python.\n",
       "    var element = $(\"#\" + id);\n",
       "    var ws_proxy = comm_websocket_adapter(comm)\n",
       "\n",
       "    function ondownload(figure, format) {\n",
       "        window.open(figure.imageObj.src);\n",
       "    }\n",
       "\n",
       "    var fig = new mpl.figure(id, ws_proxy,\n",
       "                           ondownload,\n",
       "                           element.get(0));\n",
       "\n",
       "    // Call onopen now - mpl needs it, as it is assuming we've passed it a real\n",
       "    // web socket which is closed, not our websocket->open comm proxy.\n",
       "    ws_proxy.onopen();\n",
       "\n",
       "    fig.parent_element = element.get(0);\n",
       "    fig.cell_info = mpl.find_output_cell(\"<div id='\" + id + \"'></div>\");\n",
       "    if (!fig.cell_info) {\n",
       "        console.error(\"Failed to find cell for figure\", id, fig);\n",
       "        return;\n",
       "    }\n",
       "\n",
       "    var output_index = fig.cell_info[2]\n",
       "    var cell = fig.cell_info[0];\n",
       "\n",
       "};\n",
       "\n",
       "mpl.figure.prototype.handle_close = function(fig, msg) {\n",
       "    fig.root.unbind('remove')\n",
       "\n",
       "    // Update the output cell to use the data from the current canvas.\n",
       "    fig.push_to_output();\n",
       "    var dataURL = fig.canvas.toDataURL();\n",
       "    // Re-enable the keyboard manager in IPython - without this line, in FF,\n",
       "    // the notebook keyboard shortcuts fail.\n",
       "    IPython.keyboard_manager.enable()\n",
       "    $(fig.parent_element).html('<img src=\"' + dataURL + '\">');\n",
       "    fig.close_ws(fig, msg);\n",
       "}\n",
       "\n",
       "mpl.figure.prototype.close_ws = function(fig, msg){\n",
       "    fig.send_message('closing', msg);\n",
       "    // fig.ws.close()\n",
       "}\n",
       "\n",
       "mpl.figure.prototype.push_to_output = function(remove_interactive) {\n",
       "    // Turn the data on the canvas into data in the output cell.\n",
       "    var dataURL = this.canvas.toDataURL();\n",
       "    this.cell_info[1]['text/html'] = '<img src=\"' + dataURL + '\">';\n",
       "}\n",
       "\n",
       "mpl.figure.prototype.updated_canvas_event = function() {\n",
       "    // Tell IPython that the notebook contents must change.\n",
       "    IPython.notebook.set_dirty(true);\n",
       "    this.send_message(\"ack\", {});\n",
       "    var fig = this;\n",
       "    // Wait a second, then push the new image to the DOM so\n",
       "    // that it is saved nicely (might be nice to debounce this).\n",
       "    setTimeout(function () { fig.push_to_output() }, 1000);\n",
       "}\n",
       "\n",
       "mpl.figure.prototype._init_toolbar = function() {\n",
       "    var fig = this;\n",
       "\n",
       "    var nav_element = $('<div/>')\n",
       "    nav_element.attr('style', 'width: 100%');\n",
       "    this.root.append(nav_element);\n",
       "\n",
       "    // Define a callback function for later on.\n",
       "    function toolbar_event(event) {\n",
       "        return fig.toolbar_button_onclick(event['data']);\n",
       "    }\n",
       "    function toolbar_mouse_event(event) {\n",
       "        return fig.toolbar_button_onmouseover(event['data']);\n",
       "    }\n",
       "\n",
       "    for(var toolbar_ind in mpl.toolbar_items){\n",
       "        var name = mpl.toolbar_items[toolbar_ind][0];\n",
       "        var tooltip = mpl.toolbar_items[toolbar_ind][1];\n",
       "        var image = mpl.toolbar_items[toolbar_ind][2];\n",
       "        var method_name = mpl.toolbar_items[toolbar_ind][3];\n",
       "\n",
       "        if (!name) { continue; };\n",
       "\n",
       "        var button = $('<button class=\"btn btn-default\" href=\"#\" title=\"' + name + '\"><i class=\"fa ' + image + ' fa-lg\"></i></button>');\n",
       "        button.click(method_name, toolbar_event);\n",
       "        button.mouseover(tooltip, toolbar_mouse_event);\n",
       "        nav_element.append(button);\n",
       "    }\n",
       "\n",
       "    // Add the status bar.\n",
       "    var status_bar = $('<span class=\"mpl-message\" style=\"text-align:right; float: right;\"/>');\n",
       "    nav_element.append(status_bar);\n",
       "    this.message = status_bar[0];\n",
       "\n",
       "    // Add the close button to the window.\n",
       "    var buttongrp = $('<div class=\"btn-group inline pull-right\"></div>');\n",
       "    var button = $('<button class=\"btn btn-mini btn-primary\" href=\"#\" title=\"Stop Interaction\"><i class=\"fa fa-power-off icon-remove icon-large\"></i></button>');\n",
       "    button.click(function (evt) { fig.handle_close(fig, {}); } );\n",
       "    button.mouseover('Stop Interaction', toolbar_mouse_event);\n",
       "    buttongrp.append(button);\n",
       "    var titlebar = this.root.find($('.ui-dialog-titlebar'));\n",
       "    titlebar.prepend(buttongrp);\n",
       "}\n",
       "\n",
       "mpl.figure.prototype._root_extra_style = function(el){\n",
       "    var fig = this\n",
       "    el.on(\"remove\", function(){\n",
       "\tfig.close_ws(fig, {});\n",
       "    });\n",
       "}\n",
       "\n",
       "mpl.figure.prototype._canvas_extra_style = function(el){\n",
       "    // this is important to make the div 'focusable\n",
       "    el.attr('tabindex', 0)\n",
       "    // reach out to IPython and tell the keyboard manager to turn it's self\n",
       "    // off when our div gets focus\n",
       "\n",
       "    // location in version 3\n",
       "    if (IPython.notebook.keyboard_manager) {\n",
       "        IPython.notebook.keyboard_manager.register_events(el);\n",
       "    }\n",
       "    else {\n",
       "        // location in version 2\n",
       "        IPython.keyboard_manager.register_events(el);\n",
       "    }\n",
       "\n",
       "}\n",
       "\n",
       "mpl.figure.prototype._key_event_extra = function(event, name) {\n",
       "    var manager = IPython.notebook.keyboard_manager;\n",
       "    if (!manager)\n",
       "        manager = IPython.keyboard_manager;\n",
       "\n",
       "    // Check for shift+enter\n",
       "    if (event.shiftKey && event.which == 13) {\n",
       "        this.canvas_div.blur();\n",
       "        event.shiftKey = false;\n",
       "        // Send a \"J\" for go to next cell\n",
       "        event.which = 74;\n",
       "        event.keyCode = 74;\n",
       "        manager.command_mode();\n",
       "        manager.handle_keydown(event);\n",
       "    }\n",
       "}\n",
       "\n",
       "mpl.figure.prototype.handle_save = function(fig, msg) {\n",
       "    fig.ondownload(fig, null);\n",
       "}\n",
       "\n",
       "\n",
       "mpl.find_output_cell = function(html_output) {\n",
       "    // Return the cell and output element which can be found *uniquely* in the notebook.\n",
       "    // Note - this is a bit hacky, but it is done because the \"notebook_saving.Notebook\"\n",
       "    // IPython event is triggered only after the cells have been serialised, which for\n",
       "    // our purposes (turning an active figure into a static one), is too late.\n",
       "    var cells = IPython.notebook.get_cells();\n",
       "    var ncells = cells.length;\n",
       "    for (var i=0; i<ncells; i++) {\n",
       "        var cell = cells[i];\n",
       "        if (cell.cell_type === 'code'){\n",
       "            for (var j=0; j<cell.output_area.outputs.length; j++) {\n",
       "                var data = cell.output_area.outputs[j];\n",
       "                if (data.data) {\n",
       "                    // IPython >= 3 moved mimebundle to data attribute of output\n",
       "                    data = data.data;\n",
       "                }\n",
       "                if (data['text/html'] == html_output) {\n",
       "                    return [cell, data, j];\n",
       "                }\n",
       "            }\n",
       "        }\n",
       "    }\n",
       "}\n",
       "\n",
       "// Register the function which deals with the matplotlib target/channel.\n",
       "// The kernel may be null if the page has been refreshed.\n",
       "if (IPython.notebook.kernel != null) {\n",
       "    IPython.notebook.kernel.comm_manager.register_target('matplotlib', mpl.mpl_figure_comm);\n",
       "}\n"
      ],
      "text/plain": [
       "<IPython.core.display.Javascript object>"
      ]
     },
     "metadata": {},
     "output_type": "display_data"
    },
    {
     "data": {
      "text/html": [
       "<img src=\"data:image/png;base64,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\">"
      ],
      "text/plain": [
       "<IPython.core.display.HTML object>"
      ]
     },
     "metadata": {},
     "output_type": "display_data"
    }
   ],
   "source": [
    "amap = sunpy.map.Map(AIA_171_ROLL_IMAGE)\n",
    "\n",
    "im = amap.plot()\n",
    "ax = plt.gca()\n",
    "ax.set_autoscale_on(False)\n",
    "\n",
    "x = 500*u.arcsec\n",
    "y = -300*u.arcsec\n",
    "\n",
    "ax.plot(x.to(u.deg), y.to(u.deg), 'o', transform=ax.get_transform('world'))\n",
    "\n",
    "plt.show()"
   ]
  },
  {
   "cell_type": "code",
   "execution_count": 9,
   "metadata": {
    "autoscroll": "json-false",
    "collapsed": false,
    "ein.tags": [
     "worksheet-0"
    ]
   },
   "outputs": [
    {
     "ename": "TypeError",
     "evalue": "ufunc 'multiply' output (typecode 'O') could not be coerced to provided output parameter (typecode 'd') according to the casting rule ''same_kind''",
     "output_type": "error",
     "traceback": [
      "\u001b[1;31m---------------------------------------------------------------------------\u001b[0m",
      "\u001b[1;31mTypeError\u001b[0m                                 Traceback (most recent call last)",
      "\u001b[1;32m<ipython-input-9-5b77e6021943>\u001b[0m in \u001b[0;36m<module>\u001b[1;34m()\u001b[0m\n\u001b[1;32m----> 1\u001b[1;33m \u001b[0mamap\u001b[0m\u001b[1;33m.\u001b[0m\u001b[0mpixel_to_data\u001b[0m\u001b[1;33m(\u001b[0m\u001b[1;36m100.0\u001b[0m\u001b[1;33m*\u001b[0m\u001b[0mu\u001b[0m\u001b[1;33m.\u001b[0m\u001b[0mpix\u001b[0m\u001b[1;33m,\u001b[0m \u001b[1;36m100.0\u001b[0m\u001b[1;33m*\u001b[0m\u001b[0mu\u001b[0m\u001b[1;33m.\u001b[0m\u001b[0mpix\u001b[0m\u001b[1;33m)\u001b[0m\u001b[1;33m\u001b[0m\u001b[0m\n\u001b[0m",
      "\u001b[1;32m/home/katie/anaconda2/lib/python2.7/site-packages/astropy/utils/decorators.py\u001b[0m in \u001b[0;36mpixel_to_data\u001b[1;34m(self, x, y, origin)\u001b[0m\n\u001b[0;32m    677\u001b[0m             \u001b[0mname\u001b[0m \u001b[1;33m=\u001b[0m \u001b[0mfunc\u001b[0m\u001b[1;33m.\u001b[0m\u001b[0m__name__\u001b[0m\u001b[1;33m\u001b[0m\u001b[0m\n\u001b[0;32m    678\u001b[0m \u001b[1;33m\u001b[0m\u001b[0m\n\u001b[1;32m--> 679\u001b[1;33m         \u001b[0mfunc\u001b[0m \u001b[1;33m=\u001b[0m \u001b[0mmake_function_with_signature\u001b[0m\u001b[1;33m(\u001b[0m\u001b[0mfunc\u001b[0m\u001b[1;33m,\u001b[0m \u001b[0mname\u001b[0m\u001b[1;33m=\u001b[0m\u001b[0mname\u001b[0m\u001b[1;33m,\u001b[0m \u001b[1;33m**\u001b[0m\u001b[0mwrapped_args\u001b[0m\u001b[1;33m)\u001b[0m\u001b[1;33m\u001b[0m\u001b[0m\n\u001b[0m\u001b[0;32m    680\u001b[0m         func = functools.update_wrapper(func, wrapped, assigned=assigned,\n\u001b[0;32m    681\u001b[0m                                         updated=updated)\n",
      "\u001b[1;32m/home/katie/anaconda2/lib/python2.7/site-packages/astropy/units/decorators.pyc\u001b[0m in \u001b[0;36mwrapper\u001b[1;34m(*func_args, **func_kwargs)\u001b[0m\n\u001b[0;32m    128\u001b[0m             \u001b[1;31m# Call the original function with any equivalencies in force.\u001b[0m\u001b[1;33m\u001b[0m\u001b[1;33m\u001b[0m\u001b[0m\n\u001b[0;32m    129\u001b[0m             \u001b[1;32mwith\u001b[0m \u001b[0madd_enabled_equivalencies\u001b[0m\u001b[1;33m(\u001b[0m\u001b[0mself\u001b[0m\u001b[1;33m.\u001b[0m\u001b[0mequivalencies\u001b[0m\u001b[1;33m)\u001b[0m\u001b[1;33m:\u001b[0m\u001b[1;33m\u001b[0m\u001b[0m\n\u001b[1;32m--> 130\u001b[1;33m                 \u001b[1;32mreturn\u001b[0m \u001b[0mwrapped_function\u001b[0m\u001b[1;33m(\u001b[0m\u001b[1;33m*\u001b[0m\u001b[0mfunc_args\u001b[0m\u001b[1;33m,\u001b[0m \u001b[1;33m**\u001b[0m\u001b[0mfunc_kwargs\u001b[0m\u001b[1;33m)\u001b[0m\u001b[1;33m\u001b[0m\u001b[0m\n\u001b[0m\u001b[0;32m    131\u001b[0m \u001b[1;33m\u001b[0m\u001b[0m\n\u001b[0;32m    132\u001b[0m         \u001b[1;32mreturn\u001b[0m \u001b[0mwrapper\u001b[0m\u001b[1;33m\u001b[0m\u001b[0m\n",
      "\u001b[1;32m/home/katie/anaconda2/lib/python2.7/site-packages/sunpy/map/mapbase.pyc\u001b[0m in \u001b[0;36mpixel_to_data\u001b[1;34m(self, x, y, origin)\u001b[0m\n\u001b[0;32m    603\u001b[0m \u001b[1;33m\u001b[0m\u001b[0m\n\u001b[0;32m    604\u001b[0m         \u001b[1;31m# WCS always outputs degrees.\u001b[0m\u001b[1;33m\u001b[0m\u001b[1;33m\u001b[0m\u001b[0m\n\u001b[1;32m--> 605\u001b[1;33m         \u001b[0mx\u001b[0m \u001b[1;33m*=\u001b[0m \u001b[0mu\u001b[0m\u001b[1;33m.\u001b[0m\u001b[0mdeg\u001b[0m\u001b[1;33m\u001b[0m\u001b[0m\n\u001b[0m\u001b[0;32m    606\u001b[0m         \u001b[0my\u001b[0m \u001b[1;33m*=\u001b[0m \u001b[0mu\u001b[0m\u001b[1;33m.\u001b[0m\u001b[0mdeg\u001b[0m\u001b[1;33m\u001b[0m\u001b[0m\n\u001b[0;32m    607\u001b[0m \u001b[1;33m\u001b[0m\u001b[0m\n",
      "\u001b[1;31mTypeError\u001b[0m: ufunc 'multiply' output (typecode 'O') could not be coerced to provided output parameter (typecode 'd') according to the casting rule ''same_kind''"
     ]
    }
   ],
   "source": [
    "amap.pixel_to_data(100.0*u.pix, 100.0*u.pix)  #problem with sunpy not me!"
   ]
  },
  {
   "cell_type": "code",
   "execution_count": 8,
   "metadata": {
    "autoscroll": "json-false",
    "collapsed": false,
    "ein.tags": [
     "worksheet-0"
    ],
    "scrolled": true
   },
   "outputs": [
    {
     "data": {
      "text/plain": [
       "(<Quantity 2052.459961000015 pix>, <Quantity 2046.880004999985 pix>)"
      ]
     },
     "execution_count": 8,
     "metadata": {},
     "output_type": "execute_result"
    }
   ],
   "source": [
    "amap.data_to_pixel(0*u.arcsec, 0*u.arcsec)"
   ]
  },
  {
   "cell_type": "markdown",
   "metadata": {
    "ein.tags": [
     "worksheet-0"
    ]
   },
   "source": [
    "<section class=\"objectives panel panel-success\">\n",
    "<div class=\"panel-heading\">\n",
    "<h2><span class=\"fa fa-pencil\"></span> Rotate your Owl </h2>\n",
    "</div>\n",
    "Why is the Sun wonky?\n",
    "\n",
    "Use the [`rotate()`](http://docs.sunpy.org/en/stable/code_ref/map.html#sunpy.map.mapbase.GenericMap.rotate) method of SunPy Map to align the coordinate grid to the pixel grid in this sample image.\n",
    "\n",
    "Once you have run rotate, plot the resulting image, and compare with the one above.\n",
    "</section>"
   ]
  },
  {
   "cell_type": "code",
   "execution_count": null,
   "metadata": {
    "collapsed": false
   },
   "outputs": [],
   "source": []
  }
 ],
 "metadata": {
  "kernelspec": {
   "display_name": "Python 2",
   "language": "python",
   "name": "python2"
  },
  "language_info": {
   "codemirror_mode": {
    "name": "ipython",
    "version": 2
   },
   "file_extension": ".py",
   "mimetype": "text/x-python",
   "name": "python",
   "nbconvert_exporter": "python",
   "pygments_lexer": "ipython2",
   "version": "2.7.11"
  },
  "name": "Astro_Images.ipynb"
 },
 "nbformat": 4,
 "nbformat_minor": 0
}
