{
 "cells": [
  {
   "cell_type": "markdown",
   "metadata": {},
   "source": [
    "# Units and Quantities\n",
    "\n",
    "## Objectives\n",
    "\n",
    "- Use units\n",
    "- Create functions that accept quantities as arguments\n",
    "- Create new units"
   ]
  },
  {
   "cell_type": "markdown",
   "metadata": {},
   "source": [
    "## Basics\n",
    "\n",
    "How do we define a Quantity and which parts does it have?"
   ]
  },
  {
   "cell_type": "code",
   "execution_count": 1,
   "metadata": {
    "collapsed": false,
    "keep": true
   },
   "outputs": [],
   "source": [
    "from astropy import units as u\n"
   ]
  },
  {
   "cell_type": "code",
   "execution_count": 2,
   "metadata": {
    "collapsed": false
   },
   "outputs": [
    {
     "name": "stdout",
     "output_type": "stream",
     "text": [
      "24.3 m\n"
     ]
    }
   ],
   "source": [
    "# Define a quantity length\n",
    "length = 24.3 * u.meter\n",
    "\n",
    "# print it\n",
    "print(length)"
   ]
  },
  {
   "cell_type": "code",
   "execution_count": 3,
   "metadata": {
    "collapsed": false
   },
   "outputs": [
    {
     "data": {
      "text/plain": [
       "astropy.units.quantity.Quantity"
      ]
     },
     "execution_count": 3,
     "metadata": {},
     "output_type": "execute_result"
    }
   ],
   "source": [
    "# Type of quantity\n",
    "type(length)"
   ]
  },
  {
   "cell_type": "code",
   "execution_count": 4,
   "metadata": {
    "collapsed": false
   },
   "outputs": [
    {
     "data": {
      "text/plain": [
       "astropy.units.core.IrreducibleUnit"
      ]
     },
     "execution_count": 4,
     "metadata": {},
     "output_type": "execute_result"
    }
   ],
   "source": [
    "# Type of unit\n",
    "type(u.meter)"
   ]
  },
  {
   "cell_type": "code",
   "execution_count": 5,
   "metadata": {
    "collapsed": false
   },
   "outputs": [
    {
     "data": {
      "text/latex": [
       "$24.3 \\; \\mathrm{m}$"
      ],
      "text/plain": [
       "<Quantity 24.3 m>"
      ]
     },
     "execution_count": 5,
     "metadata": {},
     "output_type": "execute_result"
    }
   ],
   "source": [
    "# Quantity\n",
    "length"
   ]
  },
  {
   "cell_type": "code",
   "execution_count": 6,
   "metadata": {
    "collapsed": false
   },
   "outputs": [
    {
     "data": {
      "text/plain": [
       "24.3"
      ]
     },
     "execution_count": 6,
     "metadata": {},
     "output_type": "execute_result"
    }
   ],
   "source": [
    "# value\n",
    "length.value"
   ]
  },
  {
   "cell_type": "code",
   "execution_count": 7,
   "metadata": {
    "collapsed": false
   },
   "outputs": [
    {
     "data": {
      "text/latex": [
       "$\\mathrm{m}$"
      ],
      "text/plain": [
       "Unit(\"m\")"
      ]
     },
     "execution_count": 7,
     "metadata": {},
     "output_type": "execute_result"
    }
   ],
   "source": [
    "# unit\n",
    "length.unit"
   ]
  },
  {
   "cell_type": "code",
   "execution_count": 8,
   "metadata": {
    "collapsed": false,
    "scrolled": true
   },
   "outputs": [
    {
     "data": {
      "text/plain": [
       "dtype = float64\n",
       "unit = m\n",
       "class = Quantity\n",
       "n_bad = 0"
      ]
     },
     "execution_count": 8,
     "metadata": {},
     "output_type": "execute_result"
    }
   ],
   "source": [
    "# information\n",
    "length.info"
   ]
  },
  {
   "cell_type": "markdown",
   "metadata": {},
   "source": [
    "Quantities can be converted to other units systems or factors by using `to()`"
   ]
  },
  {
   "cell_type": "code",
   "execution_count": 9,
   "metadata": {
    "collapsed": false
   },
   "outputs": [
    {
     "data": {
      "text/latex": [
       "$2.568512 \\times 10^{-15} \\; \\mathrm{lyr}$"
      ],
      "text/plain": [
       "<Quantity 2.5685120266798154e-15 lyr>"
      ]
     },
     "execution_count": 9,
     "metadata": {},
     "output_type": "execute_result"
    }
   ],
   "source": [
    "# Convert it to: km, lyr\n",
    "length.to(u.km)\n",
    "length.to(u.lyr)"
   ]
  },
  {
   "cell_type": "markdown",
   "metadata": {},
   "source": [
    "We can do arithmetic operations when the quantities have the compatible units:"
   ]
  },
  {
   "cell_type": "code",
   "execution_count": 10,
   "metadata": {
    "collapsed": false
   },
   "outputs": [
    {
     "name": "stdout",
     "output_type": "stream",
     "text": [
      "22.99999 km\n"
     ]
    }
   ],
   "source": [
    "# arithmetic with distances\n",
    "distance_start = 10 * u.mm\n",
    "distance_end = 23 * u.km\n",
    "\n",
    "length = distance_end - distance_start\n",
    "print(length)"
   ]
  },
  {
   "cell_type": "markdown",
   "metadata": {},
   "source": [
    "Quantities can also be combined, for example to measure speed"
   ]
  },
  {
   "cell_type": "code",
   "execution_count": 11,
   "metadata": {
    "collapsed": false
   },
   "outputs": [
    {
     "name": "stdout",
     "output_type": "stream",
     "text": [
      "1.53333266667 km / min\n"
     ]
    }
   ],
   "source": [
    "# calculate a speed\n",
    "time = 15 * u.minute\n",
    "speed = length / time\n",
    "\n",
    "print(speed)"
   ]
  },
  {
   "cell_type": "code",
   "execution_count": 12,
   "metadata": {
    "collapsed": false
   },
   "outputs": [
    {
     "name": "stdout",
     "output_type": "stream",
     "text": [
      "25.5555444444 m / s\n",
      "25.5555444444 m / s\n",
      "2555.55444444 cm / s\n"
     ]
    }
   ],
   "source": [
    "# decompose it\n",
    "print(speed.decompose())\n",
    "print(speed.si)\n",
    "print(speed.cgs)"
   ]
  },
  {
   "cell_type": "markdown",
   "metadata": {},
   "source": [
    "<div style='background:#B1E0A8; padding:10px 10px 10px 10px;'>\n",
    "<H2> Challenges </H2>\n",
    "\n",
    " <ol>\n",
    " <li> Convert the speed in imperial units (miles/hour) using: <br>\n",
    "\n",
    " ```from astropy.units import imperial```\n",
    " </li>\n",
    " <li> Calculate whether a pint is more than half litre<br>\n",
    " \n",
    " <emph>You can compare quantities as comparing variables.</emph> <br>\n",
    " Something strange? Check what deffinition of <a href='https://en.wikipedia.org/wiki/Pint'>pint</a> astropy is using.\n",
    " </li>\n",
    " <li> Does units work with areas? calculate the area of a rectangle of 3 km of side and 5 meter of width. Show them in m^2 and convert them to yards^2</li>\n",
    "</div>"
   ]
  },
  {
   "cell_type": "code",
   "execution_count": 14,
   "metadata": {
    "collapsed": false
   },
   "outputs": [
    {
     "data": {
      "text/latex": [
       "$57.166125 \\; \\mathrm{\\frac{mi}{h}}$"
      ],
      "text/plain": [
       "<Quantity 57.16612483098704 mi / h>"
      ]
     },
     "execution_count": 14,
     "metadata": {},
     "output_type": "execute_result"
    }
   ],
   "source": [
    "#1\n",
    "from astropy.units import imperial\n",
    "\n",
    "speed.to(imperial.mile / u.hour)\n"
   ]
  },
  {
   "cell_type": "code",
   "execution_count": 16,
   "metadata": {
    "collapsed": false
   },
   "outputs": [
    {
     "data": {
      "text/plain": [
       "False"
      ]
     },
     "execution_count": 16,
     "metadata": {},
     "output_type": "execute_result"
    }
   ],
   "source": [
    "#2\n",
    "imperial.pint > 0.5 * u.liter\n"
   ]
  },
  {
   "cell_type": "code",
   "execution_count": 23,
   "metadata": {
    "collapsed": false
   },
   "outputs": [
    {
     "name": "stdout",
     "output_type": "stream",
     "text": [
      "15000.0 m2\n"
     ]
    },
    {
     "data": {
      "text/latex": [
       "$17939.851 \\; \\mathrm{yd^{2}}$"
      ],
      "text/plain": [
       "<Quantity 17939.8506945162 yd2>"
      ]
     },
     "execution_count": 23,
     "metadata": {},
     "output_type": "execute_result"
    }
   ],
   "source": [
    "#3\n",
    "side1 = 3 * u.km\n",
    "side2 = 5 * u.m\n",
    "\n",
    "rectangle = side1 * side2\n",
    "print(rectangle.to(u.m ** 2))\n",
    "# or rectangle.decompose()  -also puts it into the same units\n",
    "\n",
    "\n",
    "rectangle.to(imperial.yard ** 2)"
   ]
  },
  {
   "cell_type": "markdown",
   "metadata": {},
   "source": [
    "## Composed units\n",
    "\n",
    "Many units are compositions of others, for example, one could create new combinationes for ease of use:"
   ]
  },
  {
   "cell_type": "code",
   "execution_count": 24,
   "metadata": {
    "collapsed": false
   },
   "outputs": [
    {
     "data": {
      "text/latex": [
       "$2555.5544 \\; \\mathrm{\\frac{cm}{s}}$"
      ],
      "text/plain": [
       "<Quantity 2555.5544444444445 cm / s>"
      ]
     },
     "execution_count": 24,
     "metadata": {},
     "output_type": "execute_result"
    }
   ],
   "source": [
    "# create a composite unit\n",
    "cms = u.cm / u.s\n",
    "speed.to(cms)"
   ]
  },
  {
   "cell_type": "code",
   "execution_count": 25,
   "metadata": {
    "collapsed": false
   },
   "outputs": [
    {
     "data": {
      "text/latex": [
       "$57.166125 \\; \\mathrm{\\frac{mi}{h}}$"
      ],
      "text/plain": [
       "<Quantity 57.16612483098704 mi / h>"
      ]
     },
     "execution_count": 25,
     "metadata": {},
     "output_type": "execute_result"
    }
   ],
   "source": [
    "# and in the imperial system\n",
    "mph = imperial.mile / u.hour\n",
    "speed.to(mph)"
   ]
  },
  {
   "cell_type": "markdown",
   "metadata": {},
   "source": [
    "and others are already a composition:"
   ]
  },
  {
   "cell_type": "code",
   "execution_count": 26,
   "metadata": {
    "collapsed": false
   },
   "outputs": [
    {
     "data": {
      "text/plain": [
       "[Unit(\"Hz\"), Unit(\"Bq\"), Unit(\"3.7e+10 Ci\")]"
      ]
     },
     "execution_count": 26,
     "metadata": {},
     "output_type": "execute_result"
    }
   ],
   "source": [
    "# what can be converted from s-1?\n",
    "(u.s ** -1).compose()"
   ]
  },
  {
   "cell_type": "code",
   "execution_count": 27,
   "metadata": {
    "collapsed": false
   },
   "outputs": [
    {
     "data": {
      "text/plain": [
       "[Unit(\"J\"), Unit(\"1e+07 erg\"), Unit(\"4.58742e+17 Ry\"), Unit(\"6.24151e+18 eV\")]"
      ]
     },
     "execution_count": 27,
     "metadata": {},
     "output_type": "execute_result"
    }
   ],
   "source": [
    "# or Jules?\n",
    "(u.joule).compose()"
   ]
  },
  {
   "cell_type": "code",
   "execution_count": 28,
   "metadata": {
    "collapsed": false
   },
   "outputs": [
    {
     "data": {
      "text/latex": [
       "$0.99999996 \\; \\mathrm{R_{\\infty}}$"
      ],
      "text/plain": [
       "<Quantity 0.9999999618935274 Ry>"
      ]
     },
     "execution_count": 28,
     "metadata": {},
     "output_type": "execute_result"
    }
   ],
   "source": [
    "# Unity of R\n",
    "(13.605692 * u.eV).to(u.Ry)"
   ]
  },
  {
   "cell_type": "markdown",
   "metadata": {},
   "source": [
    "Sometime we get *no units* quantitites"
   ]
  },
  {
   "cell_type": "code",
   "execution_count": 29,
   "metadata": {
    "collapsed": false
   },
   "outputs": [
    {
     "data": {
      "text/latex": [
       "$20 \\; \\mathrm{\\frac{cm}{m}}$"
      ],
      "text/plain": [
       "<Quantity 20.0 cm / m>"
      ]
     },
     "execution_count": 29,
     "metadata": {},
     "output_type": "execute_result"
    }
   ],
   "source": [
    "# no units\n",
    "nounits = 20 * u.cm / (1 * u.m)\n",
    "nounits"
   ]
  },
  {
   "cell_type": "markdown",
   "metadata": {},
   "source": [
    "What happen if we add a number to this?"
   ]
  },
  {
   "cell_type": "code",
   "execution_count": 31,
   "metadata": {
    "collapsed": false
   },
   "outputs": [
    {
     "data": {
      "text/latex": [
       "$3.2 \\; \\mathrm{}$"
      ],
      "text/plain": [
       "<Quantity 3.2>"
      ]
     },
     "execution_count": 31,
     "metadata": {},
     "output_type": "execute_result"
    }
   ],
   "source": [
    "# arithmetic with no units\n",
    "nounits + 3"
   ]
  },
  {
   "cell_type": "code",
   "execution_count": 32,
   "metadata": {
    "collapsed": false
   },
   "outputs": [
    {
     "data": {
      "text/latex": [
       "$0.2 \\; \\mathrm{}$"
      ],
      "text/plain": [
       "<Quantity 0.2>"
      ]
     },
     "execution_count": 32,
     "metadata": {},
     "output_type": "execute_result"
    }
   ],
   "source": [
    "# final value of a no unit quantity\n",
    "nounits.decompose()"
   ]
  },
  {
   "cell_type": "markdown",
   "metadata": {},
   "source": [
    "## Equivalencies\n",
    "\n",
    "Some conversions are not done by a conversion factor as between miles and kilometers, for example converting between wavelength and frequency."
   ]
  },
  {
   "cell_type": "code",
   "execution_count": 36,
   "metadata": {
    "collapsed": false
   },
   "outputs": [
    {
     "data": {
      "text/latex": [
       "$4.5680502 \\times 10^{14} \\; \\mathrm{Hz}$"
      ],
      "text/plain": [
       "<Quantity 456805024067434.5 Hz>"
      ]
     },
     "execution_count": 36,
     "metadata": {},
     "output_type": "execute_result"
    }
   ],
   "source": [
    "# converting spectral quantities\n",
    "(656.281 * u.nm).to(u.Hz)"
   ]
  },
  {
   "cell_type": "code",
   "execution_count": 37,
   "metadata": {
    "collapsed": false
   },
   "outputs": [
    {
     "data": {
      "text/latex": [
       "$4.5680502 \\times 10^{14} \\; \\mathrm{Hz}$"
      ],
      "text/plain": [
       "<Quantity 456805024067434.5 Hz>"
      ]
     },
     "execution_count": 37,
     "metadata": {},
     "output_type": "execute_result"
    }
   ],
   "source": [
    "# but doing it right\n",
    "(656.281 * u.nm).to(u.Hz, equivalencies=u.spectral())"
   ]
  },
  {
   "cell_type": "markdown",
   "metadata": {},
   "source": [
    "Other built-in equivalencies are: \n",
    " - `parallax()`\n",
    " - Doppler (`dopplr_radio`, `doppler_optical`, `doppler_relativistic`)\n",
    " - spectral flux density\n",
    " - brigthness temperature\n",
    " - temperature energy\n",
    " - and you can [build your own](http://astropy.readthedocs.org/en/stable/units/equivalencies.html#writing-new-equivalencies)"
   ]
  },
  {
   "cell_type": "code",
   "execution_count": 39,
   "metadata": {
    "collapsed": false
   },
   "outputs": [
    {
     "data": {
      "text/plain": [
       "  Primary name | Unit definition | Aliases     \n",
       "[\n",
       "  Bq           | 1 / s           | becquerel    ,\n",
       "  Ci           | 2.7027e-11 / s  | curie        ,\n",
       "  Hz           | 1 / s           | Hertz, hertz ,\n",
       "]"
      ]
     },
     "execution_count": 39,
     "metadata": {},
     "output_type": "execute_result"
    }
   ],
   "source": [
    "# finding the equivalencies\n",
    "u.Hz.find_equivalent_units()"
   ]
  },
  {
   "cell_type": "code",
   "execution_count": 40,
   "metadata": {
    "collapsed": false
   },
   "outputs": [
    {
     "data": {
      "text/plain": [
       "  Primary name | Unit definition        | Aliases              \n",
       "[\n",
       "  AU           | 1.49598e+11 m          | au, astronomical_unit ,\n",
       "  Angstrom     | 1e-10 m                | AA, angstrom          ,\n",
       "  Bq           | 1 / s                  | becquerel             ,\n",
       "  Ci           | 2.7027e-11 / s         | curie                 ,\n",
       "  Hz           | 1 / s                  | Hertz, hertz          ,\n",
       "  J            | kg m2 / s2             | Joule, joule          ,\n",
       "  Ry           | 2.17987e-18 kg m2 / s2 | rydberg               ,\n",
       "  cm           | 0.01 m                 | centimeter            ,\n",
       "  eV           | 1.60218e-19 kg m2 / s2 | electronvolt          ,\n",
       "  erg          | 1e-07 kg m2 / s2       |                       ,\n",
       "  k            | 100 / m                | Kayser, kayser        ,\n",
       "  lyr          | 9.46073e+15 m          | lightyear             ,\n",
       "  m            | irreducible            | meter                 ,\n",
       "  micron       | 1e-06 m                |                       ,\n",
       "  pc           | 3.08568e+16 m          | parsec                ,\n",
       "  solRad       | 6.95508e+08 m          | R_sun, Rsun           ,\n",
       "]"
      ]
     },
     "execution_count": 40,
     "metadata": {},
     "output_type": "execute_result"
    }
   ],
   "source": [
    "# but also using other systems\n",
    "u.Hz.find_equivalent_units(equivalencies=u.spectral())"
   ]
  },
  {
   "cell_type": "markdown",
   "metadata": {},
   "source": [
    "## Printing the quantities"
   ]
  },
  {
   "cell_type": "code",
   "execution_count": 41,
   "metadata": {
    "collapsed": false
   },
   "outputs": [
    {
     "name": "stdout",
     "output_type": "stream",
     "text": [
      "1.533 km min-1\n"
     ]
    }
   ],
   "source": [
    "# Printing values with different formats\n",
    "print(\"{0.value:0.03f} is in {0.unit:FITS}\".format(speed))\n",
    "\n",
    "#speed has two parts, value and units\n",
    "#value - 3 decimal point float\n",
    "#units - FITS - writes it all in one line\n",
    "# print(\"{0.value:0.03f} is in {0.unit:latex_inline}\".format(speed))\n",
    "# prints as how you would need to write it inline in a written document"
   ]
  },
  {
   "cell_type": "markdown",
   "metadata": {},
   "source": [
    "## Arrays\n",
    "\n",
    "Quantities can also be applied to arrays"
   ]
  },
  {
   "cell_type": "code",
   "execution_count": 42,
   "metadata": {
    "collapsed": false
   },
   "outputs": [
    {
     "data": {
      "text/latex": [
       "$1.9130435 \\; \\mathrm{\\frac{m}{s}}$"
      ],
      "text/plain": [
       "<Quantity 1.9130434782608696 m / s>"
      ]
     },
     "execution_count": 42,
     "metadata": {},
     "output_type": "execute_result"
    }
   ],
   "source": [
    "# different ways of defining a quantity for a single value\n",
    "length = 44 * u.m\n",
    "time = u.Quantity(23, u.s) #both this written way and above are the same\n",
    "speed = length / time\n",
    "speed"
   ]
  },
  {
   "cell_type": "code",
   "execution_count": 43,
   "metadata": {
    "collapsed": false
   },
   "outputs": [
    {
     "data": {
      "text/latex": [
       "$[1,~1,~1] \\; \\mathrm{\\frac{m}{s}}$"
      ],
      "text/plain": [
       "<Quantity [ 1., 1., 1.] m / s>"
      ]
     },
     "execution_count": 43,
     "metadata": {},
     "output_type": "execute_result"
    }
   ],
   "source": [
    "# now with lists\n",
    "#list is something from python - adding two lists doesnt add numbers it concatonates them - because can have letters too)\n",
    "length_list = [1,2,3] * u.m\n",
    "# and arrays\n",
    "import numpy as np\n",
    "time_array = np.array([1, 2, 3]) * u.s\n",
    "# and its arithmetics\n",
    "speed = length_list / time_array\n",
    "\n",
    "#speed[0]\n",
    "#speed[0].unit\n",
    "#speed[0].value\n",
    "#speed.unit\n",
    "#speed.value"
   ]
  },
  {
   "cell_type": "code",
   "execution_count": 44,
   "metadata": {
    "collapsed": false
   },
   "outputs": [
    {
     "name": "stdout",
     "output_type": "stream",
     "text": [
      "[   0.  179.] deg\n",
      "[ 0.          0.01745241]\n"
     ]
    }
   ],
   "source": [
    "# angles are smart!\n",
    "angles = u.Quantity(np.arange(180), u.deg)  #creates an array of 180 points evenly spaced\n",
    "print(angles[[0, -1]])  # prints first and last angle  - [[double brackets to convert it into a list??]]\n",
    "print(np.sin(angles[[0, -1]]))  #prints sin of first and last angle"
   ]
  },
  {
   "cell_type": "markdown",
   "metadata": {},
   "source": [
    "## Plotting quantities\n",
    "\n",
    "To work nicely with matplotlib we need to do as follows:"
   ]
  },
  {
   "cell_type": "code",
   "execution_count": 45,
   "metadata": {
    "collapsed": false,
    "keep": true
   },
   "outputs": [],
   "source": [
    "# allowing for plotting\n",
    "from astropy.visualization import quantity_support\n",
    "quantity_support()\n",
    "\n",
    "# loading matplotlib\n",
    "%matplotlib inline\n",
    "from matplotlib import pyplot as plt\n"
   ]
  },
  {
   "cell_type": "code",
   "execution_count": 47,
   "metadata": {
    "collapsed": false
   },
   "outputs": [
    {
     "data": {
      "text/plain": [
       "[<matplotlib.lines.Line2D at 0x7f65028efc50>]"
      ]
     },
     "execution_count": 47,
     "metadata": {},
     "output_type": "execute_result"
    },
    {
     "data": {
      "image/png": "[encoded data removed]",
      "text/plain": [
       "<matplotlib.figure.Figure at 0x7f6507784d50>"
      ]
     },
     "metadata": {},
     "output_type": "display_data"
    }
   ],
   "source": [
    "# Ploting the previous array\n",
    "plt.plot(angles, np.sin(angles))\n",
    "plt.plot(angles.to(u.rad), np.cos(angles))"
   ]
  },
  {
   "cell_type": "markdown",
   "metadata": {},
   "source": [
    "## Creating functions with quantities as units\n",
    "\n",
    "We want to have functions that contain the information of the untis, and with them we can be sure that we will be always have the *right* result."
   ]
  },
  {
   "cell_type": "code",
   "execution_count": 54,
   "metadata": {
    "collapsed": false
   },
   "outputs": [],
   "source": [
    "# Create a function for the Kinetic energy\n",
    "@u.quantity_input(mass=u.kg, speed=u.m/u.s)  # says which units the code is expecting(or equivalent units)\n",
    "def kinetic(mass, speed):\n",
    "    '''The speed is in... the mass is in... the kinetic energy is in... '''\n",
    "    return (mass * speed ** 2 / 2).to(u.joule)"
   ]
  },
  {
   "cell_type": "code",
   "execution_count": 55,
   "metadata": {
    "collapsed": false
   },
   "outputs": [
    {
     "data": {
      "text/latex": [
       "$0.00375 \\; \\mathrm{J}$"
      ],
      "text/plain": [
       "<Quantity 0.0037500000000000003 J>"
      ]
     },
     "execution_count": 55,
     "metadata": {},
     "output_type": "execute_result"
    }
   ],
   "source": [
    "kinetic(3 * u.kg,5 *cms)"
   ]
  },
  {
   "cell_type": "code",
   "execution_count": null,
   "metadata": {
    "collapsed": false
   },
   "outputs": [],
   "source": [
    "# run with and without units\n",
    "\n",
    "# get an error if you run kinetic(3,5) WITHOUT UNITS"
   ]
  },
  {
   "cell_type": "markdown",
   "metadata": {},
   "source": [
    "<div style='background:#B1E0A8; padding:10px 10px 10px 10px;'>\n",
    "<H2> Challenges </H2>\n",
    "\n",
    " <ol start=4>\n",
    "  <li> Create a function that calculates potential energy where *g* defaults to Earth value, \n",
    "  but could be used for different planets. \n",
    "  Test it for any of the *g* values for any other \n",
    "  <a href=\"http://www.physicsclassroom.com/class/circles/Lesson-3/The-Value-of-g\">planet</a>.\n",
    "  </li>\n",
    " </ol>\n",
    "</div>"
   ]
  },
  {
   "cell_type": "code",
   "execution_count": 59,
   "metadata": {
    "collapsed": true
   },
   "outputs": [],
   "source": [
    "#4\n",
    "#potential energy = mass * g  * height\n",
    "#g = 9.81\n",
    "\n",
    "@u.quantity_input(mass=u.kg, height=u.m, g=u.m/(u.s ** 2))\n",
    "def potential(mass, height, g=9.81 * u.m/(u.s ** 2)):\n",
    "    '''The mass is in kg, the height is in m, g is in m/s^2 and the potential energy is in joules '''\n",
    "    return (0.5 * mass * height * g).to(u.joule)"
   ]
  },
  {
   "cell_type": "code",
   "execution_count": 61,
   "metadata": {
    "collapsed": false
   },
   "outputs": [
    {
     "data": {
      "text/latex": [
       "$507.6675 \\; \\mathrm{J}$"
      ],
      "text/plain": [
       "<Quantity 507.6675 J>"
      ]
     },
     "execution_count": 61,
     "metadata": {},
     "output_type": "execute_result"
    }
   ],
   "source": [
    "# run it for some values\n",
    "potential(23 * u.g, 4.5 * u.km)"
   ]
  },
  {
   "cell_type": "code",
   "execution_count": 63,
   "metadata": {
    "collapsed": false
   },
   "outputs": [
    {
     "data": {
      "text/latex": [
       "$9.375 \\; \\mathrm{J}$"
      ],
      "text/plain": [
       "<Quantity 9.375 J>"
      ]
     },
     "execution_count": 63,
     "metadata": {},
     "output_type": "execute_result"
    }
   ],
   "source": [
    "# on Mars:\n",
    "potential(5 * u.kg, 1 * u.m, 3.75 * u.m/(u.s ** 2))"
   ]
  },
  {
   "cell_type": "markdown",
   "metadata": {},
   "source": [
    "## Create your own units\n",
    "\n",
    "Some times we want to create our own units:"
   ]
  },
  {
   "cell_type": "code",
   "execution_count": 65,
   "metadata": {
    "collapsed": false
   },
   "outputs": [
    {
     "name": "stdout",
     "output_type": "stream",
     "text": [
      "240.0 titter\n"
     ]
    }
   ],
   "source": [
    "# Create units for a laugh scale\n",
    "titter = u.def_unit('titter')\n",
    "chuckle = u.def_unit('chuckle', 5 * titter)\n",
    "laugh = u.def_unit('laugh', 4 * chuckle)\n",
    "guffaw = u.def_unit('guffaw', 3 * laugh)\n",
    "rofl = u.def_unit('rofl', 4 * guffaw)\n",
    "death_by_laughing = u.def_unit('death_by_laughing', 10 * rofl)\n",
    "\n",
    "print(1*rofl).to(titter)\n"
   ]
  },
  {
   "cell_type": "markdown",
   "metadata": {},
   "source": [
    "<div style='background:#B1E0A8; padding:10px 10px 10px 10px;'>\n",
    "<H2> Challenges </H2>\n",
    "\n",
    " <ol start=5>\n",
    "  <li> Convert the area calculated before `rectangle_area` in <a href=\"https://en.wikipedia.org/wiki/Hectare\">Hectare</a>\n",
    "  (1 hectare = 100 ares; 1 are = 100 m2).\n",
    "  </li>\n",
    " </ol>\n",
    "</div>"
   ]
  },
  {
   "cell_type": "code",
   "execution_count": 66,
   "metadata": {
    "collapsed": false
   },
   "outputs": [
    {
     "name": "stdout",
     "output_type": "stream",
     "text": [
      "1.5 hectare\n"
     ]
    }
   ],
   "source": [
    "#5\n",
    "are = u.def_unit('are', 100 * (u.m ** 2))\n",
    "hectare = u.def_unit('hectare', 100 * are)\n",
    "\n",
    "print((rectangle).to(hectare))"
   ]
  }
 ],
 "metadata": {
  "kernelspec": {
   "display_name": "Python 2",
   "language": "python",
   "name": "python2"
  },
  "language_info": {
   "codemirror_mode": {
    "name": "ipython",
    "version": 2
   },
   "file_extension": ".py",
   "mimetype": "text/x-python",
   "name": "python",
   "nbconvert_exporter": "python",
   "pygments_lexer": "ipython2",
   "version": "2.7.11"
  }
 },
 "nbformat": 4,
 "nbformat_minor": 0
}
