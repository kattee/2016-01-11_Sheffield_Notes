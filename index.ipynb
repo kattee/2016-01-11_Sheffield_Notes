{
 "cells": [
  {
   "cell_type": "markdown",
   "metadata": {},
   "source": [
    "# 2016-01-11 Sheffield OpenAstronomy Workshop"
   ]
  },
  {
   "cell_type": "markdown",
   "metadata": {},
   "source": [
    "This repository contains notebooks for the different Python lessons.\n",
    "\n",
    "1. [Python 1](./02-Python1/index.ipynb)\n",
    "2. [Python 2](./03-Python2/index.ipynb)\n",
    "3. [Units](./04-Units/Units_Quantities.ipynb) - [solutions](./04-Units/Units_Quantities_Instructor.ipynb)\n",
    "4. [Images and Plotting](./05-images/images-and-plotting.ipynb) - [solutions](./05-images/images-and-plotting_instructor.ipynb)\n",
    "5. [Astroimages - WCS](./06-astroimages/06-Astro-Images.ipynb) - [solutions](./06-astroimages/06-Astro-Images_Instructor.ipynb)\n",
    "6. [Tables](./07-tables/reading_tables.ipynb) - [solutions](./07-tables/reading_tables_Instructor.ipynb)\n",
    "7. [Time Series](./08-Time-Series-Data.ipynb) - [solutions](./08-Time-Series-Data_Instructor.ipynb)\n",
    "8. [Getting Data](./09-Getting-at-Data.ipynb) - [solutions](./09-Getting-at-Data_Instructor.ipynb)"
   ]
  }
 ],
 "metadata": {
  "kernelspec": {
   "display_name": "Python 2",
   "language": "python",
   "name": "python2"
  },
  "language_info": {
   "codemirror_mode": {
    "name": "ipython",
    "version": 2
   },
   "file_extension": ".py",
   "mimetype": "text/x-python",
   "name": "python",
   "nbconvert_exporter": "python",
   "pygments_lexer": "ipython2",
   "version": "2.7.11"
  }
 },
 "nbformat": 4,
 "nbformat_minor": 0
}
